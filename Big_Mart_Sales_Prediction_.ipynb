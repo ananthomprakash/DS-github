{
  "nbformat": 4,
  "nbformat_minor": 0,
  "metadata": {
    "kernelspec": {
      "display_name": "Python 3",
      "language": "python",
      "name": "python3"
    },
    "language_info": {
      "codemirror_mode": {
        "name": "ipython",
        "version": 3
      },
      "file_extension": ".py",
      "mimetype": "text/x-python",
      "name": "python",
      "nbconvert_exporter": "python",
      "pygments_lexer": "ipython3",
      "version": "3.7.4"
    },
    "colab": {
      "name": "Big Mart Sales Prediction .ipynb",
      "provenance": [],
      "collapsed_sections": [],
      "include_colab_link": true
    }
  },
  "cells": [
    {
      "cell_type": "markdown",
      "metadata": {
        "id": "view-in-github",
        "colab_type": "text"
      },
      "source": [
        "<a href=\"https://colab.research.google.com/github/ananthomprakash/DS-github/blob/master/Big_Mart_Sales_Prediction_.ipynb\" target=\"_parent\"><img src=\"https://colab.research.google.com/assets/colab-badge.svg\" alt=\"Open In Colab\"/></a>"
      ]
    },
    {
      "cell_type": "code",
      "metadata": {
        "id": "hOuDXnG-jno1",
        "colab_type": "code",
        "colab": {}
      },
      "source": [
        "import numpy as np # to perform numerical operations\n",
        "import pandas as pd # for data manipulations and data agrregations\n",
        "import matplotlib.pyplot as plt\n",
        "import seaborn as sns \n",
        "\n",
        "# for visualization\n",
        "from sklearn.linear_model import LinearRegression #  To Build regression algo\n",
        "import statsmodels.api as sm # to build the statstical models\n",
        "from sklearn.model_selection import train_test_split # to divide the data into train and test\n",
        "import sklearn.metrics"
      ],
      "execution_count": 0,
      "outputs": []
    },
    {
      "cell_type": "code",
      "metadata": {
        "id": "ecxlIdBvj9Ew",
        "colab_type": "code",
        "colab": {
          "base_uri": "https://localhost:8080/",
          "height": 34
        },
        "outputId": "0351fa53-c87e-48a8-b826-aa8b63f20a20"
      },
      "source": [
        "from google.colab import drive\n",
        "drive.mount('/content/DataSets')"
      ],
      "execution_count": 64,
      "outputs": [
        {
          "output_type": "stream",
          "text": [
            "Drive already mounted at /content/DataSets; to attempt to forcibly remount, call drive.mount(\"/content/DataSets\", force_remount=True).\n"
          ],
          "name": "stdout"
        }
      ]
    },
    {
      "cell_type": "code",
      "metadata": {
        "id": "4_svqaqfl07h",
        "colab_type": "code",
        "colab": {}
      },
      "source": [
        "from pydrive.auth import GoogleAuth\n",
        "from pydrive.drive import GoogleDrive\n",
        "from google.colab import auth\n",
        "from oauth2client.client import GoogleCredentials"
      ],
      "execution_count": 0,
      "outputs": []
    },
    {
      "cell_type": "code",
      "metadata": {
        "id": "Wu8cNT8il3GX",
        "colab_type": "code",
        "colab": {}
      },
      "source": [
        "auth.authenticate_user()\n",
        "gauth = GoogleAuth()\n",
        "gauth.credentials = GoogleCredentials.get_application_default()\n",
        "drive = GoogleDrive(gauth)"
      ],
      "execution_count": 0,
      "outputs": []
    },
    {
      "cell_type": "code",
      "metadata": {
        "id": "O25HdAfXmJOk",
        "colab_type": "code",
        "colab": {}
      },
      "source": [
        "downloaded = drive.CreateFile({'id':\"1_iq1JMW3C9BIAsKvOaPMycVu26RW5hlZ\"})\n",
        "downloaded.GetContentFile('train.csv')"
      ],
      "execution_count": 0,
      "outputs": []
    },
    {
      "cell_type": "code",
      "metadata": {
        "id": "FK9vOSMango6",
        "colab_type": "code",
        "colab": {}
      },
      "source": [
        "market = pd.read_csv('train.csv')"
      ],
      "execution_count": 0,
      "outputs": []
    },
    {
      "cell_type": "code",
      "metadata": {
        "id": "tDvOzBLJjno9",
        "colab_type": "code",
        "colab": {
          "base_uri": "https://localhost:8080/",
          "height": 299
        },
        "outputId": "26a5fd5c-2cfd-423d-9c18-94dd3d123aa9"
      },
      "source": [
        "market.head()"
      ],
      "execution_count": 69,
      "outputs": [
        {
          "output_type": "execute_result",
          "data": {
            "text/html": [
              "<div>\n",
              "<style scoped>\n",
              "    .dataframe tbody tr th:only-of-type {\n",
              "        vertical-align: middle;\n",
              "    }\n",
              "\n",
              "    .dataframe tbody tr th {\n",
              "        vertical-align: top;\n",
              "    }\n",
              "\n",
              "    .dataframe thead th {\n",
              "        text-align: right;\n",
              "    }\n",
              "</style>\n",
              "<table border=\"1\" class=\"dataframe\">\n",
              "  <thead>\n",
              "    <tr style=\"text-align: right;\">\n",
              "      <th></th>\n",
              "      <th>Item_Identifier</th>\n",
              "      <th>Item_Weight</th>\n",
              "      <th>Item_Fat_Content</th>\n",
              "      <th>Item_Visibility</th>\n",
              "      <th>Item_Type</th>\n",
              "      <th>Item_MRP</th>\n",
              "      <th>Outlet_Identifier</th>\n",
              "      <th>Outlet_Establishment_Year</th>\n",
              "      <th>Outlet_Size</th>\n",
              "      <th>Outlet_Location_Type</th>\n",
              "      <th>Outlet_Type</th>\n",
              "      <th>Item_Outlet_Sales</th>\n",
              "    </tr>\n",
              "  </thead>\n",
              "  <tbody>\n",
              "    <tr>\n",
              "      <th>0</th>\n",
              "      <td>FDA15</td>\n",
              "      <td>9.30</td>\n",
              "      <td>Low Fat</td>\n",
              "      <td>0.016047</td>\n",
              "      <td>Dairy</td>\n",
              "      <td>249.8092</td>\n",
              "      <td>OUT049</td>\n",
              "      <td>1999</td>\n",
              "      <td>Medium</td>\n",
              "      <td>Tier 1</td>\n",
              "      <td>Supermarket Type1</td>\n",
              "      <td>3735.1380</td>\n",
              "    </tr>\n",
              "    <tr>\n",
              "      <th>1</th>\n",
              "      <td>DRC01</td>\n",
              "      <td>5.92</td>\n",
              "      <td>Regular</td>\n",
              "      <td>0.019278</td>\n",
              "      <td>Soft Drinks</td>\n",
              "      <td>48.2692</td>\n",
              "      <td>OUT018</td>\n",
              "      <td>2009</td>\n",
              "      <td>Medium</td>\n",
              "      <td>Tier 3</td>\n",
              "      <td>Supermarket Type2</td>\n",
              "      <td>443.4228</td>\n",
              "    </tr>\n",
              "    <tr>\n",
              "      <th>2</th>\n",
              "      <td>FDN15</td>\n",
              "      <td>17.50</td>\n",
              "      <td>Low Fat</td>\n",
              "      <td>0.016760</td>\n",
              "      <td>Meat</td>\n",
              "      <td>141.6180</td>\n",
              "      <td>OUT049</td>\n",
              "      <td>1999</td>\n",
              "      <td>Medium</td>\n",
              "      <td>Tier 1</td>\n",
              "      <td>Supermarket Type1</td>\n",
              "      <td>2097.2700</td>\n",
              "    </tr>\n",
              "    <tr>\n",
              "      <th>3</th>\n",
              "      <td>FDX07</td>\n",
              "      <td>19.20</td>\n",
              "      <td>Regular</td>\n",
              "      <td>0.000000</td>\n",
              "      <td>Fruits and Vegetables</td>\n",
              "      <td>182.0950</td>\n",
              "      <td>OUT010</td>\n",
              "      <td>1998</td>\n",
              "      <td>NaN</td>\n",
              "      <td>Tier 3</td>\n",
              "      <td>Grocery Store</td>\n",
              "      <td>732.3800</td>\n",
              "    </tr>\n",
              "    <tr>\n",
              "      <th>4</th>\n",
              "      <td>NCD19</td>\n",
              "      <td>8.93</td>\n",
              "      <td>Low Fat</td>\n",
              "      <td>0.000000</td>\n",
              "      <td>Household</td>\n",
              "      <td>53.8614</td>\n",
              "      <td>OUT013</td>\n",
              "      <td>1987</td>\n",
              "      <td>High</td>\n",
              "      <td>Tier 3</td>\n",
              "      <td>Supermarket Type1</td>\n",
              "      <td>994.7052</td>\n",
              "    </tr>\n",
              "  </tbody>\n",
              "</table>\n",
              "</div>"
            ],
            "text/plain": [
              "  Item_Identifier  Item_Weight  ...        Outlet_Type  Item_Outlet_Sales\n",
              "0           FDA15         9.30  ...  Supermarket Type1          3735.1380\n",
              "1           DRC01         5.92  ...  Supermarket Type2           443.4228\n",
              "2           FDN15        17.50  ...  Supermarket Type1          2097.2700\n",
              "3           FDX07        19.20  ...      Grocery Store           732.3800\n",
              "4           NCD19         8.93  ...  Supermarket Type1           994.7052\n",
              "\n",
              "[5 rows x 12 columns]"
            ]
          },
          "metadata": {
            "tags": []
          },
          "execution_count": 69
        }
      ]
    },
    {
      "cell_type": "code",
      "metadata": {
        "id": "NtdY-BUZjnpB",
        "colab_type": "code",
        "colab": {
          "base_uri": "https://localhost:8080/",
          "height": 299
        },
        "outputId": "34100aec-2962-4423-a686-0ee0da77e524"
      },
      "source": [
        "market1=market[(market[\"Item_Type\"]==\"Baking Goods\" ) & (market[\"Outlet_Type\"]==\"Supermarket Type1\")]\n",
        "market1.head()"
      ],
      "execution_count": 70,
      "outputs": [
        {
          "output_type": "execute_result",
          "data": {
            "text/html": [
              "<div>\n",
              "<style scoped>\n",
              "    .dataframe tbody tr th:only-of-type {\n",
              "        vertical-align: middle;\n",
              "    }\n",
              "\n",
              "    .dataframe tbody tr th {\n",
              "        vertical-align: top;\n",
              "    }\n",
              "\n",
              "    .dataframe thead th {\n",
              "        text-align: right;\n",
              "    }\n",
              "</style>\n",
              "<table border=\"1\" class=\"dataframe\">\n",
              "  <thead>\n",
              "    <tr style=\"text-align: right;\">\n",
              "      <th></th>\n",
              "      <th>Item_Identifier</th>\n",
              "      <th>Item_Weight</th>\n",
              "      <th>Item_Fat_Content</th>\n",
              "      <th>Item_Visibility</th>\n",
              "      <th>Item_Type</th>\n",
              "      <th>Item_MRP</th>\n",
              "      <th>Outlet_Identifier</th>\n",
              "      <th>Outlet_Establishment_Year</th>\n",
              "      <th>Outlet_Size</th>\n",
              "      <th>Outlet_Location_Type</th>\n",
              "      <th>Outlet_Type</th>\n",
              "      <th>Item_Outlet_Sales</th>\n",
              "    </tr>\n",
              "  </thead>\n",
              "  <tbody>\n",
              "    <tr>\n",
              "      <th>48</th>\n",
              "      <td>FDL12</td>\n",
              "      <td>15.850</td>\n",
              "      <td>Regular</td>\n",
              "      <td>0.121633</td>\n",
              "      <td>Baking Goods</td>\n",
              "      <td>60.6220</td>\n",
              "      <td>OUT046</td>\n",
              "      <td>1997</td>\n",
              "      <td>Small</td>\n",
              "      <td>Tier 1</td>\n",
              "      <td>Supermarket Type1</td>\n",
              "      <td>2576.6460</td>\n",
              "    </tr>\n",
              "    <tr>\n",
              "      <th>71</th>\n",
              "      <td>FDL12</td>\n",
              "      <td>15.850</td>\n",
              "      <td>Regular</td>\n",
              "      <td>0.121532</td>\n",
              "      <td>Baking Goods</td>\n",
              "      <td>59.2220</td>\n",
              "      <td>OUT013</td>\n",
              "      <td>1987</td>\n",
              "      <td>High</td>\n",
              "      <td>Tier 3</td>\n",
              "      <td>Supermarket Type1</td>\n",
              "      <td>599.2200</td>\n",
              "    </tr>\n",
              "    <tr>\n",
              "      <th>106</th>\n",
              "      <td>FDA47</td>\n",
              "      <td>10.500</td>\n",
              "      <td>Regular</td>\n",
              "      <td>0.116577</td>\n",
              "      <td>Baking Goods</td>\n",
              "      <td>163.1210</td>\n",
              "      <td>OUT013</td>\n",
              "      <td>1987</td>\n",
              "      <td>High</td>\n",
              "      <td>Tier 3</td>\n",
              "      <td>Supermarket Type1</td>\n",
              "      <td>1794.3310</td>\n",
              "    </tr>\n",
              "    <tr>\n",
              "      <th>107</th>\n",
              "      <td>FDG12</td>\n",
              "      <td>6.635</td>\n",
              "      <td>Regular</td>\n",
              "      <td>0.000000</td>\n",
              "      <td>Baking Goods</td>\n",
              "      <td>121.3098</td>\n",
              "      <td>OUT045</td>\n",
              "      <td>2002</td>\n",
              "      <td>NaN</td>\n",
              "      <td>Tier 2</td>\n",
              "      <td>Supermarket Type1</td>\n",
              "      <td>2530.7058</td>\n",
              "    </tr>\n",
              "    <tr>\n",
              "      <th>179</th>\n",
              "      <td>FDO24</td>\n",
              "      <td>11.100</td>\n",
              "      <td>Low Fat</td>\n",
              "      <td>0.176573</td>\n",
              "      <td>Baking Goods</td>\n",
              "      <td>157.4604</td>\n",
              "      <td>OUT045</td>\n",
              "      <td>2002</td>\n",
              "      <td>NaN</td>\n",
              "      <td>Tier 2</td>\n",
              "      <td>Supermarket Type1</td>\n",
              "      <td>3010.7476</td>\n",
              "    </tr>\n",
              "  </tbody>\n",
              "</table>\n",
              "</div>"
            ],
            "text/plain": [
              "    Item_Identifier  Item_Weight  ...        Outlet_Type  Item_Outlet_Sales\n",
              "48            FDL12       15.850  ...  Supermarket Type1          2576.6460\n",
              "71            FDL12       15.850  ...  Supermarket Type1           599.2200\n",
              "106           FDA47       10.500  ...  Supermarket Type1          1794.3310\n",
              "107           FDG12        6.635  ...  Supermarket Type1          2530.7058\n",
              "179           FDO24       11.100  ...  Supermarket Type1          3010.7476\n",
              "\n",
              "[5 rows x 12 columns]"
            ]
          },
          "metadata": {
            "tags": []
          },
          "execution_count": 70
        }
      ]
    },
    {
      "cell_type": "code",
      "metadata": {
        "id": "oPIi0oOWjnpE",
        "colab_type": "code",
        "colab": {
          "base_uri": "https://localhost:8080/",
          "height": 34
        },
        "outputId": "8456b2d5-7a24-4542-a98b-bbbc0a93922a"
      },
      "source": [
        "market1.shape"
      ],
      "execution_count": 71,
      "outputs": [
        {
          "output_type": "execute_result",
          "data": {
            "text/plain": [
              "(426, 12)"
            ]
          },
          "metadata": {
            "tags": []
          },
          "execution_count": 71
        }
      ]
    },
    {
      "cell_type": "code",
      "metadata": {
        "id": "q8bqHhn5jnpI",
        "colab_type": "code",
        "colab": {
          "base_uri": "https://localhost:8080/",
          "height": 336
        },
        "outputId": "03626de6-ad93-4972-db01-9b9efe66d6b7"
      },
      "source": [
        "market1.info()"
      ],
      "execution_count": 72,
      "outputs": [
        {
          "output_type": "stream",
          "text": [
            "<class 'pandas.core.frame.DataFrame'>\n",
            "Int64Index: 426 entries, 48 to 8519\n",
            "Data columns (total 12 columns):\n",
            " #   Column                     Non-Null Count  Dtype  \n",
            "---  ------                     --------------  -----  \n",
            " 0   Item_Identifier            426 non-null    object \n",
            " 1   Item_Weight                426 non-null    float64\n",
            " 2   Item_Fat_Content           426 non-null    object \n",
            " 3   Item_Visibility            426 non-null    float64\n",
            " 4   Item_Type                  426 non-null    object \n",
            " 5   Item_MRP                   426 non-null    float64\n",
            " 6   Outlet_Identifier          426 non-null    object \n",
            " 7   Outlet_Establishment_Year  426 non-null    int64  \n",
            " 8   Outlet_Size                283 non-null    object \n",
            " 9   Outlet_Location_Type       426 non-null    object \n",
            " 10  Outlet_Type                426 non-null    object \n",
            " 11  Item_Outlet_Sales          426 non-null    float64\n",
            "dtypes: float64(4), int64(1), object(7)\n",
            "memory usage: 43.3+ KB\n"
          ],
          "name": "stdout"
        }
      ]
    },
    {
      "cell_type": "code",
      "metadata": {
        "id": "AWPhNdWHjnpL",
        "colab_type": "code",
        "colab": {
          "base_uri": "https://localhost:8080/",
          "height": 302
        },
        "outputId": "d762ad2c-89d4-4fd0-dda4-593a9c9636bd"
      },
      "source": [
        "for i in market1.columns:\n",
        "    print(i,\" \",market1[i].nunique(),market1[i].dtypes)\n",
        "    if market1[i].dtypes =='object':\n",
        "        if((market1[i].nunique() > 10) | (market1[i].nunique()==1)):\n",
        "            market1.drop(i,axis=1,inplace=True)\n",
        "     "
      ],
      "execution_count": 73,
      "outputs": [
        {
          "output_type": "stream",
          "text": [
            "Item_Identifier   118 object\n",
            "Item_Weight   94 float64\n",
            "Item_Fat_Content   5 object\n",
            "Item_Visibility   398 float64\n",
            "Item_Type   1 object\n",
            "Item_MRP   411 float64\n",
            "Outlet_Identifier   6 object\n",
            "Outlet_Establishment_Year   6 int64\n",
            "Outlet_Size   3 object\n",
            "Outlet_Location_Type   3 object\n",
            "Outlet_Type   1 object\n",
            "Item_Outlet_Sales   366 float64\n"
          ],
          "name": "stdout"
        },
        {
          "output_type": "stream",
          "text": [
            "/usr/local/lib/python3.6/dist-packages/pandas/core/frame.py:3997: SettingWithCopyWarning: \n",
            "A value is trying to be set on a copy of a slice from a DataFrame\n",
            "\n",
            "See the caveats in the documentation: https://pandas.pydata.org/pandas-docs/stable/user_guide/indexing.html#returning-a-view-versus-a-copy\n",
            "  errors=errors,\n"
          ],
          "name": "stderr"
        }
      ]
    },
    {
      "cell_type": "code",
      "metadata": {
        "id": "vPh2f948jnpO",
        "colab_type": "code",
        "colab": {
          "base_uri": "https://localhost:8080/",
          "height": 168
        },
        "outputId": "e8b80478-f6e2-48a7-c856-35eb10b766cd"
      },
      "source": [
        "list(market1.columns)"
      ],
      "execution_count": 74,
      "outputs": [
        {
          "output_type": "execute_result",
          "data": {
            "text/plain": [
              "['Item_Weight',\n",
              " 'Item_Fat_Content',\n",
              " 'Item_Visibility',\n",
              " 'Item_MRP',\n",
              " 'Outlet_Identifier',\n",
              " 'Outlet_Establishment_Year',\n",
              " 'Outlet_Size',\n",
              " 'Outlet_Location_Type',\n",
              " 'Item_Outlet_Sales']"
            ]
          },
          "metadata": {
            "tags": []
          },
          "execution_count": 74
        }
      ]
    },
    {
      "cell_type": "code",
      "metadata": {
        "id": "WmKMQEABjnpQ",
        "colab_type": "code",
        "colab": {}
      },
      "source": [
        "market1=market1.fillna(method=\"ffill\")"
      ],
      "execution_count": 0,
      "outputs": []
    },
    {
      "cell_type": "code",
      "metadata": {
        "id": "p4DRExVkjnpT",
        "colab_type": "code",
        "colab": {
          "base_uri": "https://localhost:8080/",
          "height": 185
        },
        "outputId": "e10de9b1-8c1c-443a-fd40-9d5f8c71bad3"
      },
      "source": [
        "market1.isnull().sum()"
      ],
      "execution_count": 76,
      "outputs": [
        {
          "output_type": "execute_result",
          "data": {
            "text/plain": [
              "Item_Weight                  0\n",
              "Item_Fat_Content             0\n",
              "Item_Visibility              0\n",
              "Item_MRP                     0\n",
              "Outlet_Identifier            0\n",
              "Outlet_Establishment_Year    0\n",
              "Outlet_Size                  0\n",
              "Outlet_Location_Type         0\n",
              "Item_Outlet_Sales            0\n",
              "dtype: int64"
            ]
          },
          "metadata": {
            "tags": []
          },
          "execution_count": 76
        }
      ]
    },
    {
      "cell_type": "code",
      "metadata": {
        "id": "Ybgy-OR9jnpW",
        "colab_type": "code",
        "colab": {
          "base_uri": "https://localhost:8080/",
          "height": 336
        },
        "outputId": "579c0ffd-f52c-46dd-be0f-2757c3623c51"
      },
      "source": [
        "market2=pd.get_dummies(market1,drop_first=True)\n",
        "print(market2.shape)\n",
        "list(market2.columns)"
      ],
      "execution_count": 77,
      "outputs": [
        {
          "output_type": "stream",
          "text": [
            "(426, 18)\n"
          ],
          "name": "stdout"
        },
        {
          "output_type": "execute_result",
          "data": {
            "text/plain": [
              "['Item_Weight',\n",
              " 'Item_Visibility',\n",
              " 'Item_MRP',\n",
              " 'Outlet_Establishment_Year',\n",
              " 'Item_Outlet_Sales',\n",
              " 'Item_Fat_Content_Low Fat',\n",
              " 'Item_Fat_Content_Regular',\n",
              " 'Item_Fat_Content_low fat',\n",
              " 'Item_Fat_Content_reg',\n",
              " 'Outlet_Identifier_OUT017',\n",
              " 'Outlet_Identifier_OUT035',\n",
              " 'Outlet_Identifier_OUT045',\n",
              " 'Outlet_Identifier_OUT046',\n",
              " 'Outlet_Identifier_OUT049',\n",
              " 'Outlet_Size_Medium',\n",
              " 'Outlet_Size_Small',\n",
              " 'Outlet_Location_Type_Tier 2',\n",
              " 'Outlet_Location_Type_Tier 3']"
            ]
          },
          "metadata": {
            "tags": []
          },
          "execution_count": 77
        }
      ]
    },
    {
      "cell_type": "code",
      "metadata": {
        "id": "3P9vsmybjnpZ",
        "colab_type": "code",
        "colab": {
          "base_uri": "https://localhost:8080/",
          "height": 580
        },
        "outputId": "81e55f52-f4ac-4938-f9ea-21a3586b815f"
      },
      "source": [
        "market2.describe().T"
      ],
      "execution_count": 78,
      "outputs": [
        {
          "output_type": "execute_result",
          "data": {
            "text/html": [
              "<div>\n",
              "<style scoped>\n",
              "    .dataframe tbody tr th:only-of-type {\n",
              "        vertical-align: middle;\n",
              "    }\n",
              "\n",
              "    .dataframe tbody tr th {\n",
              "        vertical-align: top;\n",
              "    }\n",
              "\n",
              "    .dataframe thead th {\n",
              "        text-align: right;\n",
              "    }\n",
              "</style>\n",
              "<table border=\"1\" class=\"dataframe\">\n",
              "  <thead>\n",
              "    <tr style=\"text-align: right;\">\n",
              "      <th></th>\n",
              "      <th>count</th>\n",
              "      <th>mean</th>\n",
              "      <th>std</th>\n",
              "      <th>min</th>\n",
              "      <th>25%</th>\n",
              "      <th>50%</th>\n",
              "      <th>75%</th>\n",
              "      <th>max</th>\n",
              "    </tr>\n",
              "  </thead>\n",
              "  <tbody>\n",
              "    <tr>\n",
              "      <th>Item_Weight</th>\n",
              "      <td>426.0</td>\n",
              "      <td>12.290869</td>\n",
              "      <td>4.802144</td>\n",
              "      <td>4.8800</td>\n",
              "      <td>8.235000</td>\n",
              "      <td>11.650000</td>\n",
              "      <td>15.825000</td>\n",
              "      <td>20.850000</td>\n",
              "    </tr>\n",
              "    <tr>\n",
              "      <th>Item_Visibility</th>\n",
              "      <td>426.0</td>\n",
              "      <td>0.061530</td>\n",
              "      <td>0.041943</td>\n",
              "      <td>0.0000</td>\n",
              "      <td>0.030202</td>\n",
              "      <td>0.055739</td>\n",
              "      <td>0.082419</td>\n",
              "      <td>0.186236</td>\n",
              "    </tr>\n",
              "    <tr>\n",
              "      <th>Item_MRP</th>\n",
              "      <td>426.0</td>\n",
              "      <td>125.975262</td>\n",
              "      <td>58.957086</td>\n",
              "      <td>35.0874</td>\n",
              "      <td>83.167100</td>\n",
              "      <td>110.205700</td>\n",
              "      <td>171.742200</td>\n",
              "      <td>265.556800</td>\n",
              "    </tr>\n",
              "    <tr>\n",
              "      <th>Outlet_Establishment_Year</th>\n",
              "      <td>426.0</td>\n",
              "      <td>1999.248826</td>\n",
              "      <td>6.470135</td>\n",
              "      <td>1987.0000</td>\n",
              "      <td>1997.000000</td>\n",
              "      <td>1999.000000</td>\n",
              "      <td>2004.000000</td>\n",
              "      <td>2007.000000</td>\n",
              "    </tr>\n",
              "    <tr>\n",
              "      <th>Item_Outlet_Sales</th>\n",
              "      <td>426.0</td>\n",
              "      <td>2102.021249</td>\n",
              "      <td>1431.337598</td>\n",
              "      <td>126.5020</td>\n",
              "      <td>1006.689600</td>\n",
              "      <td>1764.702900</td>\n",
              "      <td>2868.099950</td>\n",
              "      <td>7931.675400</td>\n",
              "    </tr>\n",
              "    <tr>\n",
              "      <th>Item_Fat_Content_Low Fat</th>\n",
              "      <td>426.0</td>\n",
              "      <td>0.448357</td>\n",
              "      <td>0.497911</td>\n",
              "      <td>0.0000</td>\n",
              "      <td>0.000000</td>\n",
              "      <td>0.000000</td>\n",
              "      <td>1.000000</td>\n",
              "      <td>1.000000</td>\n",
              "    </tr>\n",
              "    <tr>\n",
              "      <th>Item_Fat_Content_Regular</th>\n",
              "      <td>426.0</td>\n",
              "      <td>0.490610</td>\n",
              "      <td>0.500500</td>\n",
              "      <td>0.0000</td>\n",
              "      <td>0.000000</td>\n",
              "      <td>0.000000</td>\n",
              "      <td>1.000000</td>\n",
              "      <td>1.000000</td>\n",
              "    </tr>\n",
              "    <tr>\n",
              "      <th>Item_Fat_Content_low fat</th>\n",
              "      <td>426.0</td>\n",
              "      <td>0.009390</td>\n",
              "      <td>0.096558</td>\n",
              "      <td>0.0000</td>\n",
              "      <td>0.000000</td>\n",
              "      <td>0.000000</td>\n",
              "      <td>0.000000</td>\n",
              "      <td>1.000000</td>\n",
              "    </tr>\n",
              "    <tr>\n",
              "      <th>Item_Fat_Content_reg</th>\n",
              "      <td>426.0</td>\n",
              "      <td>0.021127</td>\n",
              "      <td>0.143976</td>\n",
              "      <td>0.0000</td>\n",
              "      <td>0.000000</td>\n",
              "      <td>0.000000</td>\n",
              "      <td>0.000000</td>\n",
              "      <td>1.000000</td>\n",
              "    </tr>\n",
              "    <tr>\n",
              "      <th>Outlet_Identifier_OUT017</th>\n",
              "      <td>426.0</td>\n",
              "      <td>0.171362</td>\n",
              "      <td>0.377268</td>\n",
              "      <td>0.0000</td>\n",
              "      <td>0.000000</td>\n",
              "      <td>0.000000</td>\n",
              "      <td>0.000000</td>\n",
              "      <td>1.000000</td>\n",
              "    </tr>\n",
              "    <tr>\n",
              "      <th>Outlet_Identifier_OUT035</th>\n",
              "      <td>426.0</td>\n",
              "      <td>0.159624</td>\n",
              "      <td>0.366688</td>\n",
              "      <td>0.0000</td>\n",
              "      <td>0.000000</td>\n",
              "      <td>0.000000</td>\n",
              "      <td>0.000000</td>\n",
              "      <td>1.000000</td>\n",
              "    </tr>\n",
              "    <tr>\n",
              "      <th>Outlet_Identifier_OUT045</th>\n",
              "      <td>426.0</td>\n",
              "      <td>0.164319</td>\n",
              "      <td>0.371001</td>\n",
              "      <td>0.0000</td>\n",
              "      <td>0.000000</td>\n",
              "      <td>0.000000</td>\n",
              "      <td>0.000000</td>\n",
              "      <td>1.000000</td>\n",
              "    </tr>\n",
              "    <tr>\n",
              "      <th>Outlet_Identifier_OUT046</th>\n",
              "      <td>426.0</td>\n",
              "      <td>0.178404</td>\n",
              "      <td>0.383302</td>\n",
              "      <td>0.0000</td>\n",
              "      <td>0.000000</td>\n",
              "      <td>0.000000</td>\n",
              "      <td>0.000000</td>\n",
              "      <td>1.000000</td>\n",
              "    </tr>\n",
              "    <tr>\n",
              "      <th>Outlet_Identifier_OUT049</th>\n",
              "      <td>426.0</td>\n",
              "      <td>0.154930</td>\n",
              "      <td>0.362263</td>\n",
              "      <td>0.0000</td>\n",
              "      <td>0.000000</td>\n",
              "      <td>0.000000</td>\n",
              "      <td>0.000000</td>\n",
              "      <td>1.000000</td>\n",
              "    </tr>\n",
              "    <tr>\n",
              "      <th>Outlet_Size_Medium</th>\n",
              "      <td>426.0</td>\n",
              "      <td>0.234742</td>\n",
              "      <td>0.424336</td>\n",
              "      <td>0.0000</td>\n",
              "      <td>0.000000</td>\n",
              "      <td>0.000000</td>\n",
              "      <td>0.000000</td>\n",
              "      <td>1.000000</td>\n",
              "    </tr>\n",
              "    <tr>\n",
              "      <th>Outlet_Size_Small</th>\n",
              "      <td>426.0</td>\n",
              "      <td>0.488263</td>\n",
              "      <td>0.500450</td>\n",
              "      <td>0.0000</td>\n",
              "      <td>0.000000</td>\n",
              "      <td>0.000000</td>\n",
              "      <td>1.000000</td>\n",
              "      <td>1.000000</td>\n",
              "    </tr>\n",
              "    <tr>\n",
              "      <th>Outlet_Location_Type_Tier 2</th>\n",
              "      <td>426.0</td>\n",
              "      <td>0.495305</td>\n",
              "      <td>0.500566</td>\n",
              "      <td>0.0000</td>\n",
              "      <td>0.000000</td>\n",
              "      <td>0.000000</td>\n",
              "      <td>1.000000</td>\n",
              "      <td>1.000000</td>\n",
              "    </tr>\n",
              "    <tr>\n",
              "      <th>Outlet_Location_Type_Tier 3</th>\n",
              "      <td>426.0</td>\n",
              "      <td>0.171362</td>\n",
              "      <td>0.377268</td>\n",
              "      <td>0.0000</td>\n",
              "      <td>0.000000</td>\n",
              "      <td>0.000000</td>\n",
              "      <td>0.000000</td>\n",
              "      <td>1.000000</td>\n",
              "    </tr>\n",
              "  </tbody>\n",
              "</table>\n",
              "</div>"
            ],
            "text/plain": [
              "                             count         mean  ...          75%          max\n",
              "Item_Weight                  426.0    12.290869  ...    15.825000    20.850000\n",
              "Item_Visibility              426.0     0.061530  ...     0.082419     0.186236\n",
              "Item_MRP                     426.0   125.975262  ...   171.742200   265.556800\n",
              "Outlet_Establishment_Year    426.0  1999.248826  ...  2004.000000  2007.000000\n",
              "Item_Outlet_Sales            426.0  2102.021249  ...  2868.099950  7931.675400\n",
              "Item_Fat_Content_Low Fat     426.0     0.448357  ...     1.000000     1.000000\n",
              "Item_Fat_Content_Regular     426.0     0.490610  ...     1.000000     1.000000\n",
              "Item_Fat_Content_low fat     426.0     0.009390  ...     0.000000     1.000000\n",
              "Item_Fat_Content_reg         426.0     0.021127  ...     0.000000     1.000000\n",
              "Outlet_Identifier_OUT017     426.0     0.171362  ...     0.000000     1.000000\n",
              "Outlet_Identifier_OUT035     426.0     0.159624  ...     0.000000     1.000000\n",
              "Outlet_Identifier_OUT045     426.0     0.164319  ...     0.000000     1.000000\n",
              "Outlet_Identifier_OUT046     426.0     0.178404  ...     0.000000     1.000000\n",
              "Outlet_Identifier_OUT049     426.0     0.154930  ...     0.000000     1.000000\n",
              "Outlet_Size_Medium           426.0     0.234742  ...     0.000000     1.000000\n",
              "Outlet_Size_Small            426.0     0.488263  ...     1.000000     1.000000\n",
              "Outlet_Location_Type_Tier 2  426.0     0.495305  ...     1.000000     1.000000\n",
              "Outlet_Location_Type_Tier 3  426.0     0.171362  ...     0.000000     1.000000\n",
              "\n",
              "[18 rows x 8 columns]"
            ]
          },
          "metadata": {
            "tags": []
          },
          "execution_count": 78
        }
      ]
    },
    {
      "cell_type": "code",
      "metadata": {
        "id": "BcPdkSDwjnpc",
        "colab_type": "code",
        "colab": {}
      },
      "source": [
        "def outlier_cal(data):\n",
        "    col=list(data.columns)\n",
        "    for i in col:\n",
        "        if(data[i].nunique()> 2):\n",
        "            iqr=data[i].quantile(0.75)-data[i].quantile(0.25)\n",
        "            lo=data[i].quantile(0.25)-(1.5*iqr)\n",
        "            uo=data[i].quantile(0.75)+(1.5*iqr)\n",
        "            data[i]=np.where(data[i]>uo,uo,data[i])\n",
        "            data[i]=np.where(data[i]<lo,lo,data[i])\n",
        "    return data"
      ],
      "execution_count": 0,
      "outputs": []
    },
    {
      "cell_type": "code",
      "metadata": {
        "id": "KMM3x0C6jnpe",
        "colab_type": "code",
        "colab": {
          "base_uri": "https://localhost:8080/",
          "height": 580
        },
        "outputId": "01732ded-f18c-4298-8e4c-22b5c56f499d"
      },
      "source": [
        "market3=outlier_cal(data=market2)\n",
        "market3.describe().T"
      ],
      "execution_count": 80,
      "outputs": [
        {
          "output_type": "execute_result",
          "data": {
            "text/html": [
              "<div>\n",
              "<style scoped>\n",
              "    .dataframe tbody tr th:only-of-type {\n",
              "        vertical-align: middle;\n",
              "    }\n",
              "\n",
              "    .dataframe tbody tr th {\n",
              "        vertical-align: top;\n",
              "    }\n",
              "\n",
              "    .dataframe thead th {\n",
              "        text-align: right;\n",
              "    }\n",
              "</style>\n",
              "<table border=\"1\" class=\"dataframe\">\n",
              "  <thead>\n",
              "    <tr style=\"text-align: right;\">\n",
              "      <th></th>\n",
              "      <th>count</th>\n",
              "      <th>mean</th>\n",
              "      <th>std</th>\n",
              "      <th>min</th>\n",
              "      <th>25%</th>\n",
              "      <th>50%</th>\n",
              "      <th>75%</th>\n",
              "      <th>max</th>\n",
              "    </tr>\n",
              "  </thead>\n",
              "  <tbody>\n",
              "    <tr>\n",
              "      <th>Item_Weight</th>\n",
              "      <td>426.0</td>\n",
              "      <td>12.290869</td>\n",
              "      <td>4.802144</td>\n",
              "      <td>4.8800</td>\n",
              "      <td>8.235000</td>\n",
              "      <td>11.650000</td>\n",
              "      <td>15.825000</td>\n",
              "      <td>20.850000</td>\n",
              "    </tr>\n",
              "    <tr>\n",
              "      <th>Item_Visibility</th>\n",
              "      <td>426.0</td>\n",
              "      <td>0.061041</td>\n",
              "      <td>0.040645</td>\n",
              "      <td>0.0000</td>\n",
              "      <td>0.030202</td>\n",
              "      <td>0.055739</td>\n",
              "      <td>0.082419</td>\n",
              "      <td>0.160746</td>\n",
              "    </tr>\n",
              "    <tr>\n",
              "      <th>Item_MRP</th>\n",
              "      <td>426.0</td>\n",
              "      <td>125.975262</td>\n",
              "      <td>58.957086</td>\n",
              "      <td>35.0874</td>\n",
              "      <td>83.167100</td>\n",
              "      <td>110.205700</td>\n",
              "      <td>171.742200</td>\n",
              "      <td>265.556800</td>\n",
              "    </tr>\n",
              "    <tr>\n",
              "      <th>Outlet_Establishment_Year</th>\n",
              "      <td>426.0</td>\n",
              "      <td>1999.248826</td>\n",
              "      <td>6.470135</td>\n",
              "      <td>1987.0000</td>\n",
              "      <td>1997.000000</td>\n",
              "      <td>1999.000000</td>\n",
              "      <td>2004.000000</td>\n",
              "      <td>2007.000000</td>\n",
              "    </tr>\n",
              "    <tr>\n",
              "      <th>Item_Outlet_Sales</th>\n",
              "      <td>426.0</td>\n",
              "      <td>2082.203345</td>\n",
              "      <td>1372.174578</td>\n",
              "      <td>126.5020</td>\n",
              "      <td>1006.689600</td>\n",
              "      <td>1764.702900</td>\n",
              "      <td>2868.099950</td>\n",
              "      <td>5660.215475</td>\n",
              "    </tr>\n",
              "    <tr>\n",
              "      <th>Item_Fat_Content_Low Fat</th>\n",
              "      <td>426.0</td>\n",
              "      <td>0.448357</td>\n",
              "      <td>0.497911</td>\n",
              "      <td>0.0000</td>\n",
              "      <td>0.000000</td>\n",
              "      <td>0.000000</td>\n",
              "      <td>1.000000</td>\n",
              "      <td>1.000000</td>\n",
              "    </tr>\n",
              "    <tr>\n",
              "      <th>Item_Fat_Content_Regular</th>\n",
              "      <td>426.0</td>\n",
              "      <td>0.490610</td>\n",
              "      <td>0.500500</td>\n",
              "      <td>0.0000</td>\n",
              "      <td>0.000000</td>\n",
              "      <td>0.000000</td>\n",
              "      <td>1.000000</td>\n",
              "      <td>1.000000</td>\n",
              "    </tr>\n",
              "    <tr>\n",
              "      <th>Item_Fat_Content_low fat</th>\n",
              "      <td>426.0</td>\n",
              "      <td>0.009390</td>\n",
              "      <td>0.096558</td>\n",
              "      <td>0.0000</td>\n",
              "      <td>0.000000</td>\n",
              "      <td>0.000000</td>\n",
              "      <td>0.000000</td>\n",
              "      <td>1.000000</td>\n",
              "    </tr>\n",
              "    <tr>\n",
              "      <th>Item_Fat_Content_reg</th>\n",
              "      <td>426.0</td>\n",
              "      <td>0.021127</td>\n",
              "      <td>0.143976</td>\n",
              "      <td>0.0000</td>\n",
              "      <td>0.000000</td>\n",
              "      <td>0.000000</td>\n",
              "      <td>0.000000</td>\n",
              "      <td>1.000000</td>\n",
              "    </tr>\n",
              "    <tr>\n",
              "      <th>Outlet_Identifier_OUT017</th>\n",
              "      <td>426.0</td>\n",
              "      <td>0.171362</td>\n",
              "      <td>0.377268</td>\n",
              "      <td>0.0000</td>\n",
              "      <td>0.000000</td>\n",
              "      <td>0.000000</td>\n",
              "      <td>0.000000</td>\n",
              "      <td>1.000000</td>\n",
              "    </tr>\n",
              "    <tr>\n",
              "      <th>Outlet_Identifier_OUT035</th>\n",
              "      <td>426.0</td>\n",
              "      <td>0.159624</td>\n",
              "      <td>0.366688</td>\n",
              "      <td>0.0000</td>\n",
              "      <td>0.000000</td>\n",
              "      <td>0.000000</td>\n",
              "      <td>0.000000</td>\n",
              "      <td>1.000000</td>\n",
              "    </tr>\n",
              "    <tr>\n",
              "      <th>Outlet_Identifier_OUT045</th>\n",
              "      <td>426.0</td>\n",
              "      <td>0.164319</td>\n",
              "      <td>0.371001</td>\n",
              "      <td>0.0000</td>\n",
              "      <td>0.000000</td>\n",
              "      <td>0.000000</td>\n",
              "      <td>0.000000</td>\n",
              "      <td>1.000000</td>\n",
              "    </tr>\n",
              "    <tr>\n",
              "      <th>Outlet_Identifier_OUT046</th>\n",
              "      <td>426.0</td>\n",
              "      <td>0.178404</td>\n",
              "      <td>0.383302</td>\n",
              "      <td>0.0000</td>\n",
              "      <td>0.000000</td>\n",
              "      <td>0.000000</td>\n",
              "      <td>0.000000</td>\n",
              "      <td>1.000000</td>\n",
              "    </tr>\n",
              "    <tr>\n",
              "      <th>Outlet_Identifier_OUT049</th>\n",
              "      <td>426.0</td>\n",
              "      <td>0.154930</td>\n",
              "      <td>0.362263</td>\n",
              "      <td>0.0000</td>\n",
              "      <td>0.000000</td>\n",
              "      <td>0.000000</td>\n",
              "      <td>0.000000</td>\n",
              "      <td>1.000000</td>\n",
              "    </tr>\n",
              "    <tr>\n",
              "      <th>Outlet_Size_Medium</th>\n",
              "      <td>426.0</td>\n",
              "      <td>0.234742</td>\n",
              "      <td>0.424336</td>\n",
              "      <td>0.0000</td>\n",
              "      <td>0.000000</td>\n",
              "      <td>0.000000</td>\n",
              "      <td>0.000000</td>\n",
              "      <td>1.000000</td>\n",
              "    </tr>\n",
              "    <tr>\n",
              "      <th>Outlet_Size_Small</th>\n",
              "      <td>426.0</td>\n",
              "      <td>0.488263</td>\n",
              "      <td>0.500450</td>\n",
              "      <td>0.0000</td>\n",
              "      <td>0.000000</td>\n",
              "      <td>0.000000</td>\n",
              "      <td>1.000000</td>\n",
              "      <td>1.000000</td>\n",
              "    </tr>\n",
              "    <tr>\n",
              "      <th>Outlet_Location_Type_Tier 2</th>\n",
              "      <td>426.0</td>\n",
              "      <td>0.495305</td>\n",
              "      <td>0.500566</td>\n",
              "      <td>0.0000</td>\n",
              "      <td>0.000000</td>\n",
              "      <td>0.000000</td>\n",
              "      <td>1.000000</td>\n",
              "      <td>1.000000</td>\n",
              "    </tr>\n",
              "    <tr>\n",
              "      <th>Outlet_Location_Type_Tier 3</th>\n",
              "      <td>426.0</td>\n",
              "      <td>0.171362</td>\n",
              "      <td>0.377268</td>\n",
              "      <td>0.0000</td>\n",
              "      <td>0.000000</td>\n",
              "      <td>0.000000</td>\n",
              "      <td>0.000000</td>\n",
              "      <td>1.000000</td>\n",
              "    </tr>\n",
              "  </tbody>\n",
              "</table>\n",
              "</div>"
            ],
            "text/plain": [
              "                             count         mean  ...          75%          max\n",
              "Item_Weight                  426.0    12.290869  ...    15.825000    20.850000\n",
              "Item_Visibility              426.0     0.061041  ...     0.082419     0.160746\n",
              "Item_MRP                     426.0   125.975262  ...   171.742200   265.556800\n",
              "Outlet_Establishment_Year    426.0  1999.248826  ...  2004.000000  2007.000000\n",
              "Item_Outlet_Sales            426.0  2082.203345  ...  2868.099950  5660.215475\n",
              "Item_Fat_Content_Low Fat     426.0     0.448357  ...     1.000000     1.000000\n",
              "Item_Fat_Content_Regular     426.0     0.490610  ...     1.000000     1.000000\n",
              "Item_Fat_Content_low fat     426.0     0.009390  ...     0.000000     1.000000\n",
              "Item_Fat_Content_reg         426.0     0.021127  ...     0.000000     1.000000\n",
              "Outlet_Identifier_OUT017     426.0     0.171362  ...     0.000000     1.000000\n",
              "Outlet_Identifier_OUT035     426.0     0.159624  ...     0.000000     1.000000\n",
              "Outlet_Identifier_OUT045     426.0     0.164319  ...     0.000000     1.000000\n",
              "Outlet_Identifier_OUT046     426.0     0.178404  ...     0.000000     1.000000\n",
              "Outlet_Identifier_OUT049     426.0     0.154930  ...     0.000000     1.000000\n",
              "Outlet_Size_Medium           426.0     0.234742  ...     0.000000     1.000000\n",
              "Outlet_Size_Small            426.0     0.488263  ...     1.000000     1.000000\n",
              "Outlet_Location_Type_Tier 2  426.0     0.495305  ...     1.000000     1.000000\n",
              "Outlet_Location_Type_Tier 3  426.0     0.171362  ...     0.000000     1.000000\n",
              "\n",
              "[18 rows x 8 columns]"
            ]
          },
          "metadata": {
            "tags": []
          },
          "execution_count": 80
        }
      ]
    },
    {
      "cell_type": "code",
      "metadata": {
        "id": "MZllv7kEjnph",
        "colab_type": "code",
        "colab": {}
      },
      "source": [
        "from statsmodels.graphics.gofplots import qqplot"
      ],
      "execution_count": 0,
      "outputs": []
    },
    {
      "cell_type": "code",
      "metadata": {
        "id": "VmBwP_E_jnpj",
        "colab_type": "code",
        "colab": {
          "base_uri": "https://localhost:8080/",
          "height": 541
        },
        "outputId": "e9e4c2ec-baaa-471f-a30e-85673268eff3"
      },
      "source": [
        "qqplot(market3[\"Item_Outlet_Sales\"],line=\"s\")"
      ],
      "execution_count": 82,
      "outputs": [
        {
          "output_type": "execute_result",
          "data": {
            "image/png": "[encoded data removed]",
            "text/plain": [
              "<Figure size 432x288 with 1 Axes>"
            ]
          },
          "metadata": {
            "tags": []
          },
          "execution_count": 82
        },
        {
          "output_type": "display_data",
          "data": {
            "image/png": "[encoded data removed]",
            "text/plain": [
              "<Figure size 432x288 with 1 Axes>"
            ]
          },
          "metadata": {
            "tags": [],
            "needs_background": "light"
          }
        }
      ]
    },
    {
      "cell_type": "code",
      "metadata": {
        "id": "8hx9xDEUjnpm",
        "colab_type": "code",
        "colab": {}
      },
      "source": [
        "market3[\"Item_Outlet_Sales_sqr\"]=np.sqrt(market3[\"Item_Outlet_Sales\"])"
      ],
      "execution_count": 0,
      "outputs": []
    },
    {
      "cell_type": "code",
      "metadata": {
        "id": "tQnSKpwCjnpo",
        "colab_type": "code",
        "colab": {
          "base_uri": "https://localhost:8080/",
          "height": 541
        },
        "outputId": "723ce1d9-42ee-430e-e79c-caf921430f1c"
      },
      "source": [
        "qqplot(market3[\"Item_Outlet_Sales_sqr\"],line=\"s\")"
      ],
      "execution_count": 84,
      "outputs": [
        {
          "output_type": "execute_result",
          "data": {
            "image/png": "[encoded data removed]",
            "text/plain": [
              "<Figure size 432x288 with 1 Axes>"
            ]
          },
          "metadata": {
            "tags": []
          },
          "execution_count": 84
        },
        {
          "output_type": "display_data",
          "data": {
            "image/png": "[encoded data removed]",
            "text/plain": [
              "<Figure size 432x288 with 1 Axes>"
            ]
          },
          "metadata": {
            "tags": [],
            "needs_background": "light"
          }
        }
      ]
    },
    {
      "cell_type": "code",
      "metadata": {
        "id": "Qt1jo7W8jnpr",
        "colab_type": "code",
        "colab": {}
      },
      "source": [
        "market4=market3.drop([\"Item_Outlet_Sales\"],axis=1)"
      ],
      "execution_count": 0,
      "outputs": []
    },
    {
      "cell_type": "code",
      "metadata": {
        "id": "TbIuvPxLjnpu",
        "colab_type": "code",
        "colab": {}
      },
      "source": [
        "market4[\"Item_Outlet_Sales\"]=market4[\"Item_Outlet_Sales_sqr\"]"
      ],
      "execution_count": 0,
      "outputs": []
    },
    {
      "cell_type": "code",
      "metadata": {
        "id": "k4T90YGYjnpw",
        "colab_type": "code",
        "colab": {}
      },
      "source": [
        "market4.drop([\"Item_Outlet_Sales_sqr\"],axis=1,inplace=True)"
      ],
      "execution_count": 0,
      "outputs": []
    },
    {
      "cell_type": "code",
      "metadata": {
        "id": "fuxinmrrjnpy",
        "colab_type": "code",
        "colab": {
          "base_uri": "https://localhost:8080/",
          "height": 232
        },
        "outputId": "abd85a92-0e4a-42a4-8948-ff87b10b267c"
      },
      "source": [
        "market4.head()"
      ],
      "execution_count": 88,
      "outputs": [
        {
          "output_type": "execute_result",
          "data": {
            "text/html": [
              "<div>\n",
              "<style scoped>\n",
              "    .dataframe tbody tr th:only-of-type {\n",
              "        vertical-align: middle;\n",
              "    }\n",
              "\n",
              "    .dataframe tbody tr th {\n",
              "        vertical-align: top;\n",
              "    }\n",
              "\n",
              "    .dataframe thead th {\n",
              "        text-align: right;\n",
              "    }\n",
              "</style>\n",
              "<table border=\"1\" class=\"dataframe\">\n",
              "  <thead>\n",
              "    <tr style=\"text-align: right;\">\n",
              "      <th></th>\n",
              "      <th>Item_Weight</th>\n",
              "      <th>Item_Visibility</th>\n",
              "      <th>Item_MRP</th>\n",
              "      <th>Outlet_Establishment_Year</th>\n",
              "      <th>Item_Fat_Content_Low Fat</th>\n",
              "      <th>Item_Fat_Content_Regular</th>\n",
              "      <th>Item_Fat_Content_low fat</th>\n",
              "      <th>Item_Fat_Content_reg</th>\n",
              "      <th>Outlet_Identifier_OUT017</th>\n",
              "      <th>Outlet_Identifier_OUT035</th>\n",
              "      <th>Outlet_Identifier_OUT045</th>\n",
              "      <th>Outlet_Identifier_OUT046</th>\n",
              "      <th>Outlet_Identifier_OUT049</th>\n",
              "      <th>Outlet_Size_Medium</th>\n",
              "      <th>Outlet_Size_Small</th>\n",
              "      <th>Outlet_Location_Type_Tier 2</th>\n",
              "      <th>Outlet_Location_Type_Tier 3</th>\n",
              "      <th>Item_Outlet_Sales</th>\n",
              "    </tr>\n",
              "  </thead>\n",
              "  <tbody>\n",
              "    <tr>\n",
              "      <th>48</th>\n",
              "      <td>15.850</td>\n",
              "      <td>0.121633</td>\n",
              "      <td>60.6220</td>\n",
              "      <td>1997.0</td>\n",
              "      <td>0</td>\n",
              "      <td>1</td>\n",
              "      <td>0</td>\n",
              "      <td>0</td>\n",
              "      <td>0</td>\n",
              "      <td>0</td>\n",
              "      <td>0</td>\n",
              "      <td>1</td>\n",
              "      <td>0</td>\n",
              "      <td>0</td>\n",
              "      <td>1</td>\n",
              "      <td>0</td>\n",
              "      <td>0</td>\n",
              "      <td>50.760674</td>\n",
              "    </tr>\n",
              "    <tr>\n",
              "      <th>71</th>\n",
              "      <td>15.850</td>\n",
              "      <td>0.121532</td>\n",
              "      <td>59.2220</td>\n",
              "      <td>1987.0</td>\n",
              "      <td>0</td>\n",
              "      <td>1</td>\n",
              "      <td>0</td>\n",
              "      <td>0</td>\n",
              "      <td>0</td>\n",
              "      <td>0</td>\n",
              "      <td>0</td>\n",
              "      <td>0</td>\n",
              "      <td>0</td>\n",
              "      <td>0</td>\n",
              "      <td>0</td>\n",
              "      <td>0</td>\n",
              "      <td>1</td>\n",
              "      <td>24.478971</td>\n",
              "    </tr>\n",
              "    <tr>\n",
              "      <th>106</th>\n",
              "      <td>10.500</td>\n",
              "      <td>0.116577</td>\n",
              "      <td>163.1210</td>\n",
              "      <td>1987.0</td>\n",
              "      <td>0</td>\n",
              "      <td>1</td>\n",
              "      <td>0</td>\n",
              "      <td>0</td>\n",
              "      <td>0</td>\n",
              "      <td>0</td>\n",
              "      <td>0</td>\n",
              "      <td>0</td>\n",
              "      <td>0</td>\n",
              "      <td>0</td>\n",
              "      <td>0</td>\n",
              "      <td>0</td>\n",
              "      <td>1</td>\n",
              "      <td>42.359544</td>\n",
              "    </tr>\n",
              "    <tr>\n",
              "      <th>107</th>\n",
              "      <td>6.635</td>\n",
              "      <td>0.000000</td>\n",
              "      <td>121.3098</td>\n",
              "      <td>2002.0</td>\n",
              "      <td>0</td>\n",
              "      <td>1</td>\n",
              "      <td>0</td>\n",
              "      <td>0</td>\n",
              "      <td>0</td>\n",
              "      <td>0</td>\n",
              "      <td>1</td>\n",
              "      <td>0</td>\n",
              "      <td>0</td>\n",
              "      <td>0</td>\n",
              "      <td>0</td>\n",
              "      <td>1</td>\n",
              "      <td>0</td>\n",
              "      <td>50.306121</td>\n",
              "    </tr>\n",
              "    <tr>\n",
              "      <th>179</th>\n",
              "      <td>11.100</td>\n",
              "      <td>0.160746</td>\n",
              "      <td>157.4604</td>\n",
              "      <td>2002.0</td>\n",
              "      <td>1</td>\n",
              "      <td>0</td>\n",
              "      <td>0</td>\n",
              "      <td>0</td>\n",
              "      <td>0</td>\n",
              "      <td>0</td>\n",
              "      <td>1</td>\n",
              "      <td>0</td>\n",
              "      <td>0</td>\n",
              "      <td>0</td>\n",
              "      <td>0</td>\n",
              "      <td>1</td>\n",
              "      <td>0</td>\n",
              "      <td>54.870280</td>\n",
              "    </tr>\n",
              "  </tbody>\n",
              "</table>\n",
              "</div>"
            ],
            "text/plain": [
              "     Item_Weight  ...  Item_Outlet_Sales\n",
              "48        15.850  ...          50.760674\n",
              "71        15.850  ...          24.478971\n",
              "106       10.500  ...          42.359544\n",
              "107        6.635  ...          50.306121\n",
              "179       11.100  ...          54.870280\n",
              "\n",
              "[5 rows x 18 columns]"
            ]
          },
          "metadata": {
            "tags": []
          },
          "execution_count": 88
        }
      ]
    },
    {
      "cell_type": "code",
      "metadata": {
        "id": "2bD14gFTjnp1",
        "colab_type": "code",
        "colab": {
          "base_uri": "https://localhost:8080/",
          "height": 650
        },
        "outputId": "a0f594c8-2b19-4cd5-8f1f-763634280802"
      },
      "source": [
        "market4.corr()"
      ],
      "execution_count": 89,
      "outputs": [
        {
          "output_type": "execute_result",
          "data": {
            "text/html": [
              "<div>\n",
              "<style scoped>\n",
              "    .dataframe tbody tr th:only-of-type {\n",
              "        vertical-align: middle;\n",
              "    }\n",
              "\n",
              "    .dataframe tbody tr th {\n",
              "        vertical-align: top;\n",
              "    }\n",
              "\n",
              "    .dataframe thead th {\n",
              "        text-align: right;\n",
              "    }\n",
              "</style>\n",
              "<table border=\"1\" class=\"dataframe\">\n",
              "  <thead>\n",
              "    <tr style=\"text-align: right;\">\n",
              "      <th></th>\n",
              "      <th>Item_Weight</th>\n",
              "      <th>Item_Visibility</th>\n",
              "      <th>Item_MRP</th>\n",
              "      <th>Outlet_Establishment_Year</th>\n",
              "      <th>Item_Fat_Content_Low Fat</th>\n",
              "      <th>Item_Fat_Content_Regular</th>\n",
              "      <th>Item_Fat_Content_low fat</th>\n",
              "      <th>Item_Fat_Content_reg</th>\n",
              "      <th>Outlet_Identifier_OUT017</th>\n",
              "      <th>Outlet_Identifier_OUT035</th>\n",
              "      <th>Outlet_Identifier_OUT045</th>\n",
              "      <th>Outlet_Identifier_OUT046</th>\n",
              "      <th>Outlet_Identifier_OUT049</th>\n",
              "      <th>Outlet_Size_Medium</th>\n",
              "      <th>Outlet_Size_Small</th>\n",
              "      <th>Outlet_Location_Type_Tier 2</th>\n",
              "      <th>Outlet_Location_Type_Tier 3</th>\n",
              "      <th>Item_Outlet_Sales</th>\n",
              "    </tr>\n",
              "  </thead>\n",
              "  <tbody>\n",
              "    <tr>\n",
              "      <th>Item_Weight</th>\n",
              "      <td>1.000000</td>\n",
              "      <td>0.049136</td>\n",
              "      <td>0.193022</td>\n",
              "      <td>0.032296</td>\n",
              "      <td>0.053463</td>\n",
              "      <td>-0.054883</td>\n",
              "      <td>-0.041425</td>\n",
              "      <td>0.045066</td>\n",
              "      <td>-0.015401</td>\n",
              "      <td>0.090744</td>\n",
              "      <td>-0.032899</td>\n",
              "      <td>-0.021764</td>\n",
              "      <td>0.005982</td>\n",
              "      <td>0.050620</td>\n",
              "      <td>-0.017159</td>\n",
              "      <td>0.030483</td>\n",
              "      <td>-0.024077</td>\n",
              "      <td>0.054257</td>\n",
              "    </tr>\n",
              "    <tr>\n",
              "      <th>Item_Visibility</th>\n",
              "      <td>0.049136</td>\n",
              "      <td>1.000000</td>\n",
              "      <td>-0.027694</td>\n",
              "      <td>0.043828</td>\n",
              "      <td>-0.039669</td>\n",
              "      <td>0.053051</td>\n",
              "      <td>-0.069744</td>\n",
              "      <td>0.078460</td>\n",
              "      <td>0.033351</td>\n",
              "      <td>0.020351</td>\n",
              "      <td>0.011805</td>\n",
              "      <td>-0.021744</td>\n",
              "      <td>-0.017777</td>\n",
              "      <td>0.053487</td>\n",
              "      <td>-0.032141</td>\n",
              "      <td>0.048793</td>\n",
              "      <td>-0.025578</td>\n",
              "      <td>-0.026961</td>\n",
              "    </tr>\n",
              "    <tr>\n",
              "      <th>Item_MRP</th>\n",
              "      <td>0.193022</td>\n",
              "      <td>-0.027694</td>\n",
              "      <td>1.000000</td>\n",
              "      <td>-0.026054</td>\n",
              "      <td>-0.069909</td>\n",
              "      <td>0.094514</td>\n",
              "      <td>-0.051319</td>\n",
              "      <td>-0.072212</td>\n",
              "      <td>-0.036820</td>\n",
              "      <td>-0.003395</td>\n",
              "      <td>0.047223</td>\n",
              "      <td>-0.011779</td>\n",
              "      <td>-0.020068</td>\n",
              "      <td>-0.002197</td>\n",
              "      <td>-0.040770</td>\n",
              "      <td>0.004762</td>\n",
              "      <td>0.024918</td>\n",
              "      <td>0.721138</td>\n",
              "    </tr>\n",
              "    <tr>\n",
              "      <th>Outlet_Establishment_Year</th>\n",
              "      <td>0.032296</td>\n",
              "      <td>0.043828</td>\n",
              "      <td>-0.026054</td>\n",
              "      <td>1.000000</td>\n",
              "      <td>-0.000384</td>\n",
              "      <td>-0.011629</td>\n",
              "      <td>0.037680</td>\n",
              "      <td>0.014550</td>\n",
              "      <td>0.545429</td>\n",
              "      <td>0.320414</td>\n",
              "      <td>0.188773</td>\n",
              "      <td>-0.162153</td>\n",
              "      <td>-0.016486</td>\n",
              "      <td>0.147507</td>\n",
              "      <td>0.343892</td>\n",
              "      <td>0.785710</td>\n",
              "      <td>-0.861917</td>\n",
              "      <td>-0.015363</td>\n",
              "    </tr>\n",
              "    <tr>\n",
              "      <th>Item_Fat_Content_Low Fat</th>\n",
              "      <td>0.053463</td>\n",
              "      <td>-0.039669</td>\n",
              "      <td>-0.069909</td>\n",
              "      <td>-0.000384</td>\n",
              "      <td>1.000000</td>\n",
              "      <td>-0.884761</td>\n",
              "      <td>-0.087772</td>\n",
              "      <td>-0.132445</td>\n",
              "      <td>-0.034196</td>\n",
              "      <td>0.032370</td>\n",
              "      <td>0.058784</td>\n",
              "      <td>0.011403</td>\n",
              "      <td>-0.072940</td>\n",
              "      <td>-0.053853</td>\n",
              "      <td>0.025890</td>\n",
              "      <td>0.041508</td>\n",
              "      <td>0.003381</td>\n",
              "      <td>-0.070964</td>\n",
              "    </tr>\n",
              "    <tr>\n",
              "      <th>Item_Fat_Content_Regular</th>\n",
              "      <td>-0.054883</td>\n",
              "      <td>0.053051</td>\n",
              "      <td>0.094514</td>\n",
              "      <td>-0.011629</td>\n",
              "      <td>-0.884761</td>\n",
              "      <td>1.000000</td>\n",
              "      <td>-0.095547</td>\n",
              "      <td>-0.144177</td>\n",
              "      <td>0.002311</td>\n",
              "      <td>-0.004635</td>\n",
              "      <td>-0.017014</td>\n",
              "      <td>-0.015777</td>\n",
              "      <td>0.021020</td>\n",
              "      <td>0.010403</td>\n",
              "      <td>-0.019229</td>\n",
              "      <td>-0.014264</td>\n",
              "      <td>0.014772</td>\n",
              "      <td>0.111358</td>\n",
              "    </tr>\n",
              "    <tr>\n",
              "      <th>Item_Fat_Content_low fat</th>\n",
              "      <td>-0.041425</td>\n",
              "      <td>-0.069744</td>\n",
              "      <td>-0.051319</td>\n",
              "      <td>0.037680</td>\n",
              "      <td>-0.087772</td>\n",
              "      <td>-0.095547</td>\n",
              "      <td>1.000000</td>\n",
              "      <td>-0.014303</td>\n",
              "      <td>0.020317</td>\n",
              "      <td>0.024024</td>\n",
              "      <td>-0.043172</td>\n",
              "      <td>0.018207</td>\n",
              "      <td>0.025580</td>\n",
              "      <td>0.003505</td>\n",
              "      <td>0.050979</td>\n",
              "      <td>0.000914</td>\n",
              "      <td>-0.044274</td>\n",
              "      <td>-0.019842</td>\n",
              "    </tr>\n",
              "    <tr>\n",
              "      <th>Item_Fat_Content_reg</th>\n",
              "      <td>0.045066</td>\n",
              "      <td>0.078460</td>\n",
              "      <td>-0.072212</td>\n",
              "      <td>0.014550</td>\n",
              "      <td>-0.132445</td>\n",
              "      <td>-0.144177</td>\n",
              "      <td>-0.014303</td>\n",
              "      <td>1.000000</td>\n",
              "      <td>0.063147</td>\n",
              "      <td>-0.064027</td>\n",
              "      <td>-0.065144</td>\n",
              "      <td>0.016814</td>\n",
              "      <td>0.072434</td>\n",
              "      <td>0.072687</td>\n",
              "      <td>-0.045534</td>\n",
              "      <td>-0.047593</td>\n",
              "      <td>-0.023490</td>\n",
              "      <td>-0.082115</td>\n",
              "    </tr>\n",
              "    <tr>\n",
              "      <th>Outlet_Identifier_OUT017</th>\n",
              "      <td>-0.015401</td>\n",
              "      <td>0.033351</td>\n",
              "      <td>-0.036820</td>\n",
              "      <td>0.545429</td>\n",
              "      <td>-0.034196</td>\n",
              "      <td>0.002311</td>\n",
              "      <td>0.020317</td>\n",
              "      <td>0.063147</td>\n",
              "      <td>1.000000</td>\n",
              "      <td>-0.198192</td>\n",
              "      <td>-0.201650</td>\n",
              "      <td>-0.211908</td>\n",
              "      <td>-0.194713</td>\n",
              "      <td>0.027394</td>\n",
              "      <td>-0.082790</td>\n",
              "      <td>0.459042</td>\n",
              "      <td>-0.206799</td>\n",
              "      <td>-0.009757</td>\n",
              "    </tr>\n",
              "    <tr>\n",
              "      <th>Outlet_Identifier_OUT035</th>\n",
              "      <td>0.090744</td>\n",
              "      <td>0.020351</td>\n",
              "      <td>-0.003395</td>\n",
              "      <td>0.320414</td>\n",
              "      <td>0.032370</td>\n",
              "      <td>-0.004635</td>\n",
              "      <td>0.024024</td>\n",
              "      <td>-0.064027</td>\n",
              "      <td>-0.198192</td>\n",
              "      <td>1.000000</td>\n",
              "      <td>-0.193258</td>\n",
              "      <td>-0.203089</td>\n",
              "      <td>-0.186609</td>\n",
              "      <td>-0.241382</td>\n",
              "      <td>0.446179</td>\n",
              "      <td>0.439937</td>\n",
              "      <td>-0.198192</td>\n",
              "      <td>-0.071929</td>\n",
              "    </tr>\n",
              "    <tr>\n",
              "      <th>Outlet_Identifier_OUT045</th>\n",
              "      <td>-0.032899</td>\n",
              "      <td>0.011805</td>\n",
              "      <td>0.047223</td>\n",
              "      <td>0.188773</td>\n",
              "      <td>0.058784</td>\n",
              "      <td>-0.017014</td>\n",
              "      <td>-0.043172</td>\n",
              "      <td>-0.065144</td>\n",
              "      <td>-0.201650</td>\n",
              "      <td>-0.193258</td>\n",
              "      <td>1.000000</td>\n",
              "      <td>-0.206632</td>\n",
              "      <td>-0.189865</td>\n",
              "      <td>-0.021402</td>\n",
              "      <td>0.010412</td>\n",
              "      <td>0.447612</td>\n",
              "      <td>-0.201650</td>\n",
              "      <td>0.030438</td>\n",
              "    </tr>\n",
              "    <tr>\n",
              "      <th>Outlet_Identifier_OUT046</th>\n",
              "      <td>-0.021764</td>\n",
              "      <td>-0.021744</td>\n",
              "      <td>-0.011779</td>\n",
              "      <td>-0.162153</td>\n",
              "      <td>0.011403</td>\n",
              "      <td>-0.015777</td>\n",
              "      <td>0.018207</td>\n",
              "      <td>0.016814</td>\n",
              "      <td>-0.211908</td>\n",
              "      <td>-0.203089</td>\n",
              "      <td>-0.206632</td>\n",
              "      <td>1.000000</td>\n",
              "      <td>-0.199523</td>\n",
              "      <td>-0.258086</td>\n",
              "      <td>0.477056</td>\n",
              "      <td>-0.461631</td>\n",
              "      <td>-0.211908</td>\n",
              "      <td>0.056891</td>\n",
              "    </tr>\n",
              "    <tr>\n",
              "      <th>Outlet_Identifier_OUT049</th>\n",
              "      <td>0.005982</td>\n",
              "      <td>-0.017777</td>\n",
              "      <td>-0.020068</td>\n",
              "      <td>-0.016486</td>\n",
              "      <td>-0.072940</td>\n",
              "      <td>0.021020</td>\n",
              "      <td>0.025580</td>\n",
              "      <td>0.072434</td>\n",
              "      <td>-0.194713</td>\n",
              "      <td>-0.186609</td>\n",
              "      <td>-0.189865</td>\n",
              "      <td>-0.199523</td>\n",
              "      <td>1.000000</td>\n",
              "      <td>0.773089</td>\n",
              "      <td>-0.418239</td>\n",
              "      <td>-0.424173</td>\n",
              "      <td>-0.194713</td>\n",
              "      <td>0.008085</td>\n",
              "    </tr>\n",
              "    <tr>\n",
              "      <th>Outlet_Size_Medium</th>\n",
              "      <td>0.050620</td>\n",
              "      <td>0.053487</td>\n",
              "      <td>-0.002197</td>\n",
              "      <td>0.147507</td>\n",
              "      <td>-0.053853</td>\n",
              "      <td>0.010403</td>\n",
              "      <td>0.003505</td>\n",
              "      <td>0.072687</td>\n",
              "      <td>0.027394</td>\n",
              "      <td>-0.241382</td>\n",
              "      <td>-0.021402</td>\n",
              "      <td>-0.258086</td>\n",
              "      <td>0.773089</td>\n",
              "      <td>1.000000</td>\n",
              "      <td>-0.540997</td>\n",
              "      <td>-0.172039</td>\n",
              "      <td>-0.251864</td>\n",
              "      <td>0.010086</td>\n",
              "    </tr>\n",
              "    <tr>\n",
              "      <th>Outlet_Size_Small</th>\n",
              "      <td>-0.017159</td>\n",
              "      <td>-0.032141</td>\n",
              "      <td>-0.040770</td>\n",
              "      <td>0.343892</td>\n",
              "      <td>0.025890</td>\n",
              "      <td>-0.019229</td>\n",
              "      <td>0.050979</td>\n",
              "      <td>-0.045534</td>\n",
              "      <td>-0.082790</td>\n",
              "      <td>0.446179</td>\n",
              "      <td>0.010412</td>\n",
              "      <td>0.477056</td>\n",
              "      <td>-0.418239</td>\n",
              "      <td>-0.540997</td>\n",
              "      <td>1.000000</td>\n",
              "      <td>0.272167</td>\n",
              "      <td>-0.444199</td>\n",
              "      <td>-0.011236</td>\n",
              "    </tr>\n",
              "    <tr>\n",
              "      <th>Outlet_Location_Type_Tier 2</th>\n",
              "      <td>0.030483</td>\n",
              "      <td>0.048793</td>\n",
              "      <td>0.004762</td>\n",
              "      <td>0.785710</td>\n",
              "      <td>0.041508</td>\n",
              "      <td>-0.014264</td>\n",
              "      <td>0.000914</td>\n",
              "      <td>-0.047593</td>\n",
              "      <td>0.459042</td>\n",
              "      <td>0.439937</td>\n",
              "      <td>0.447612</td>\n",
              "      <td>-0.461631</td>\n",
              "      <td>-0.424173</td>\n",
              "      <td>-0.172039</td>\n",
              "      <td>0.272167</td>\n",
              "      <td>1.000000</td>\n",
              "      <td>-0.450501</td>\n",
              "      <td>-0.037486</td>\n",
              "    </tr>\n",
              "    <tr>\n",
              "      <th>Outlet_Location_Type_Tier 3</th>\n",
              "      <td>-0.024077</td>\n",
              "      <td>-0.025578</td>\n",
              "      <td>0.024918</td>\n",
              "      <td>-0.861917</td>\n",
              "      <td>0.003381</td>\n",
              "      <td>0.014772</td>\n",
              "      <td>-0.044274</td>\n",
              "      <td>-0.023490</td>\n",
              "      <td>-0.206799</td>\n",
              "      <td>-0.198192</td>\n",
              "      <td>-0.201650</td>\n",
              "      <td>-0.211908</td>\n",
              "      <td>-0.194713</td>\n",
              "      <td>-0.251864</td>\n",
              "      <td>-0.444199</td>\n",
              "      <td>-0.450501</td>\n",
              "      <td>1.000000</td>\n",
              "      <td>-0.015828</td>\n",
              "    </tr>\n",
              "    <tr>\n",
              "      <th>Item_Outlet_Sales</th>\n",
              "      <td>0.054257</td>\n",
              "      <td>-0.026961</td>\n",
              "      <td>0.721138</td>\n",
              "      <td>-0.015363</td>\n",
              "      <td>-0.070964</td>\n",
              "      <td>0.111358</td>\n",
              "      <td>-0.019842</td>\n",
              "      <td>-0.082115</td>\n",
              "      <td>-0.009757</td>\n",
              "      <td>-0.071929</td>\n",
              "      <td>0.030438</td>\n",
              "      <td>0.056891</td>\n",
              "      <td>0.008085</td>\n",
              "      <td>0.010086</td>\n",
              "      <td>-0.011236</td>\n",
              "      <td>-0.037486</td>\n",
              "      <td>-0.015828</td>\n",
              "      <td>1.000000</td>\n",
              "    </tr>\n",
              "  </tbody>\n",
              "</table>\n",
              "</div>"
            ],
            "text/plain": [
              "                             Item_Weight  ...  Item_Outlet_Sales\n",
              "Item_Weight                     1.000000  ...           0.054257\n",
              "Item_Visibility                 0.049136  ...          -0.026961\n",
              "Item_MRP                        0.193022  ...           0.721138\n",
              "Outlet_Establishment_Year       0.032296  ...          -0.015363\n",
              "Item_Fat_Content_Low Fat        0.053463  ...          -0.070964\n",
              "Item_Fat_Content_Regular       -0.054883  ...           0.111358\n",
              "Item_Fat_Content_low fat       -0.041425  ...          -0.019842\n",
              "Item_Fat_Content_reg            0.045066  ...          -0.082115\n",
              "Outlet_Identifier_OUT017       -0.015401  ...          -0.009757\n",
              "Outlet_Identifier_OUT035        0.090744  ...          -0.071929\n",
              "Outlet_Identifier_OUT045       -0.032899  ...           0.030438\n",
              "Outlet_Identifier_OUT046       -0.021764  ...           0.056891\n",
              "Outlet_Identifier_OUT049        0.005982  ...           0.008085\n",
              "Outlet_Size_Medium              0.050620  ...           0.010086\n",
              "Outlet_Size_Small              -0.017159  ...          -0.011236\n",
              "Outlet_Location_Type_Tier 2     0.030483  ...          -0.037486\n",
              "Outlet_Location_Type_Tier 3    -0.024077  ...          -0.015828\n",
              "Item_Outlet_Sales               0.054257  ...           1.000000\n",
              "\n",
              "[18 rows x 18 columns]"
            ]
          },
          "metadata": {
            "tags": []
          },
          "execution_count": 89
        }
      ]
    },
    {
      "cell_type": "code",
      "metadata": {
        "id": "7puml8xwjnp3",
        "colab_type": "code",
        "colab": {}
      },
      "source": [
        "def pairwise_cal(data,depdent_col):\n",
        "    x_var=data.drop([depdent_col],axis=1)\n",
        "    col=list(x_var.columns)\n",
        "    for i in col:\n",
        "        abc=abs(np.corrcoef(data[i],data[depdent_col])[0][1])\n",
        "        if abc <0.05:\n",
        "            data=data.drop(i,axis=1)\n",
        "    return data\n",
        "       \n",
        "        "
      ],
      "execution_count": 0,
      "outputs": []
    },
    {
      "cell_type": "code",
      "metadata": {
        "id": "eNPgSR_ajnp5",
        "colab_type": "code",
        "colab": {}
      },
      "source": [
        "market5=pairwise_cal(data=market4,depdent_col=\"Item_Outlet_Sales\")"
      ],
      "execution_count": 0,
      "outputs": []
    },
    {
      "cell_type": "code",
      "metadata": {
        "id": "JNhlNei3jnp8",
        "colab_type": "code",
        "colab": {
          "base_uri": "https://localhost:8080/",
          "height": 70
        },
        "outputId": "2a20ee51-1680-4619-8580-013225940581"
      },
      "source": [
        "print(list(market5.columns))\n",
        "\n",
        "print(list(market4.columns))"
      ],
      "execution_count": 92,
      "outputs": [
        {
          "output_type": "stream",
          "text": [
            "['Item_Weight', 'Item_MRP', 'Item_Fat_Content_Low Fat', 'Item_Fat_Content_Regular', 'Item_Fat_Content_reg', 'Outlet_Identifier_OUT035', 'Outlet_Identifier_OUT046', 'Item_Outlet_Sales']\n",
            "['Item_Weight', 'Item_Visibility', 'Item_MRP', 'Outlet_Establishment_Year', 'Item_Fat_Content_Low Fat', 'Item_Fat_Content_Regular', 'Item_Fat_Content_low fat', 'Item_Fat_Content_reg', 'Outlet_Identifier_OUT017', 'Outlet_Identifier_OUT035', 'Outlet_Identifier_OUT045', 'Outlet_Identifier_OUT046', 'Outlet_Identifier_OUT049', 'Outlet_Size_Medium', 'Outlet_Size_Small', 'Outlet_Location_Type_Tier 2', 'Outlet_Location_Type_Tier 3', 'Item_Outlet_Sales']\n"
          ],
          "name": "stdout"
        }
      ]
    },
    {
      "cell_type": "code",
      "metadata": {
        "id": "lwuR5eu8jnp_",
        "colab_type": "code",
        "colab": {}
      },
      "source": [
        "import statsmodels.formula.api as sm\n",
        "\n",
        "def vif_cal(input_data, dependent_col):\n",
        "    x_vars=input_data.copy()\n",
        "    xvar_names=x_vars.columns\n",
        "    for i in range(0,xvar_names.shape[0]):\n",
        "        y=x_vars[xvar_names[i]] \n",
        "        x=x_vars[xvar_names.drop(xvar_names[i])]\n",
        "        rsq=sm.ols(formula=\"y~x\", data=x_vars).fit().rsquared  \n",
        "        vif=round(1/(1-rsq),2)\n",
        "        print (xvar_names[i], \" VIF = \" , vif)"
      ],
      "execution_count": 0,
      "outputs": []
    },
    {
      "cell_type": "code",
      "metadata": {
        "id": "34PfMBxJjnqB",
        "colab_type": "code",
        "colab": {
          "base_uri": "https://localhost:8080/",
          "height": 151
        },
        "outputId": "185b577c-55af-4dc0-ea5e-96169a073a12"
      },
      "source": [
        "vif_cal(input_data=market5,dependent_col=\"Item_Outlet_Sales\")"
      ],
      "execution_count": 94,
      "outputs": [
        {
          "output_type": "stream",
          "text": [
            "Item_Weight  VIF =  1.07\n",
            "Item_MRP  VIF =  2.21\n",
            "Item_Fat_Content_Low Fat  VIF =  6.78\n",
            "Item_Fat_Content_Regular  VIF =  6.81\n",
            "Item_Fat_Content_reg  VIF =  1.51\n",
            "Outlet_Identifier_OUT035  VIF =  1.06\n",
            "Outlet_Identifier_OUT046  VIF =  1.05\n",
            "Item_Outlet_Sales  VIF =  2.16\n"
          ],
          "name": "stdout"
        }
      ]
    },
    {
      "cell_type": "code",
      "metadata": {
        "id": "GB8vLRl-jnqC",
        "colab_type": "code",
        "colab": {}
      },
      "source": [
        "market5.drop([\"Item_Fat_Content_Regular\"],axis=1,inplace=True)"
      ],
      "execution_count": 0,
      "outputs": []
    },
    {
      "cell_type": "code",
      "metadata": {
        "id": "QzHdffpyjnqE",
        "colab_type": "code",
        "colab": {
          "base_uri": "https://localhost:8080/",
          "height": 134
        },
        "outputId": "04213ab6-9308-4b25-dbaa-9876f92f1c29"
      },
      "source": [
        "vif_cal(input_data=market5,dependent_col=\"Item_Outlet_Sales\")"
      ],
      "execution_count": 96,
      "outputs": [
        {
          "output_type": "stream",
          "text": [
            "Item_Weight  VIF =  1.07\n",
            "Item_MRP  VIF =  2.21\n",
            "Item_Fat_Content_Low Fat  VIF =  1.03\n",
            "Item_Fat_Content_reg  VIF =  1.04\n",
            "Outlet_Identifier_OUT035  VIF =  1.06\n",
            "Outlet_Identifier_OUT046  VIF =  1.05\n",
            "Item_Outlet_Sales  VIF =  2.15\n"
          ],
          "name": "stdout"
        }
      ]
    },
    {
      "cell_type": "code",
      "metadata": {
        "id": "KIvtxvq7jnqH",
        "colab_type": "code",
        "colab": {
          "base_uri": "https://localhost:8080/",
          "height": 134
        },
        "outputId": "2a92cf24-d573-4ccb-96c9-68a4da594ef4"
      },
      "source": [
        "list(market5.columns)"
      ],
      "execution_count": 97,
      "outputs": [
        {
          "output_type": "execute_result",
          "data": {
            "text/plain": [
              "['Item_Weight',\n",
              " 'Item_MRP',\n",
              " 'Item_Fat_Content_Low Fat',\n",
              " 'Item_Fat_Content_reg',\n",
              " 'Outlet_Identifier_OUT035',\n",
              " 'Outlet_Identifier_OUT046',\n",
              " 'Item_Outlet_Sales']"
            ]
          },
          "metadata": {
            "tags": []
          },
          "execution_count": 97
        }
      ]
    },
    {
      "cell_type": "code",
      "metadata": {
        "id": "BccMX-qGjnqJ",
        "colab_type": "code",
        "colab": {}
      },
      "source": [
        "market5[\"Item_Fat_Content_Low_Fat\"]= market5[\"Item_Fat_Content_Low Fat\"]\n",
        "market5.drop([\"Item_Fat_Content_Low Fat\"],axis=1,inplace=True)\n"
      ],
      "execution_count": 0,
      "outputs": []
    },
    {
      "cell_type": "code",
      "metadata": {
        "id": "p0Dveex0jnqM",
        "colab_type": "code",
        "colab": {
          "base_uri": "https://localhost:8080/",
          "height": 195
        },
        "outputId": "d25456c7-a972-4910-94b3-3030da800650"
      },
      "source": [
        "market5.head()"
      ],
      "execution_count": 99,
      "outputs": [
        {
          "output_type": "execute_result",
          "data": {
            "text/html": [
              "<div>\n",
              "<style scoped>\n",
              "    .dataframe tbody tr th:only-of-type {\n",
              "        vertical-align: middle;\n",
              "    }\n",
              "\n",
              "    .dataframe tbody tr th {\n",
              "        vertical-align: top;\n",
              "    }\n",
              "\n",
              "    .dataframe thead th {\n",
              "        text-align: right;\n",
              "    }\n",
              "</style>\n",
              "<table border=\"1\" class=\"dataframe\">\n",
              "  <thead>\n",
              "    <tr style=\"text-align: right;\">\n",
              "      <th></th>\n",
              "      <th>Item_Weight</th>\n",
              "      <th>Item_MRP</th>\n",
              "      <th>Item_Fat_Content_reg</th>\n",
              "      <th>Outlet_Identifier_OUT035</th>\n",
              "      <th>Outlet_Identifier_OUT046</th>\n",
              "      <th>Item_Outlet_Sales</th>\n",
              "      <th>Item_Fat_Content_Low_Fat</th>\n",
              "    </tr>\n",
              "  </thead>\n",
              "  <tbody>\n",
              "    <tr>\n",
              "      <th>48</th>\n",
              "      <td>15.850</td>\n",
              "      <td>60.6220</td>\n",
              "      <td>0</td>\n",
              "      <td>0</td>\n",
              "      <td>1</td>\n",
              "      <td>50.760674</td>\n",
              "      <td>0</td>\n",
              "    </tr>\n",
              "    <tr>\n",
              "      <th>71</th>\n",
              "      <td>15.850</td>\n",
              "      <td>59.2220</td>\n",
              "      <td>0</td>\n",
              "      <td>0</td>\n",
              "      <td>0</td>\n",
              "      <td>24.478971</td>\n",
              "      <td>0</td>\n",
              "    </tr>\n",
              "    <tr>\n",
              "      <th>106</th>\n",
              "      <td>10.500</td>\n",
              "      <td>163.1210</td>\n",
              "      <td>0</td>\n",
              "      <td>0</td>\n",
              "      <td>0</td>\n",
              "      <td>42.359544</td>\n",
              "      <td>0</td>\n",
              "    </tr>\n",
              "    <tr>\n",
              "      <th>107</th>\n",
              "      <td>6.635</td>\n",
              "      <td>121.3098</td>\n",
              "      <td>0</td>\n",
              "      <td>0</td>\n",
              "      <td>0</td>\n",
              "      <td>50.306121</td>\n",
              "      <td>0</td>\n",
              "    </tr>\n",
              "    <tr>\n",
              "      <th>179</th>\n",
              "      <td>11.100</td>\n",
              "      <td>157.4604</td>\n",
              "      <td>0</td>\n",
              "      <td>0</td>\n",
              "      <td>0</td>\n",
              "      <td>54.870280</td>\n",
              "      <td>1</td>\n",
              "    </tr>\n",
              "  </tbody>\n",
              "</table>\n",
              "</div>"
            ],
            "text/plain": [
              "     Item_Weight  Item_MRP  ...  Item_Outlet_Sales  Item_Fat_Content_Low_Fat\n",
              "48        15.850   60.6220  ...          50.760674                         0\n",
              "71        15.850   59.2220  ...          24.478971                         0\n",
              "106       10.500  163.1210  ...          42.359544                         0\n",
              "107        6.635  121.3098  ...          50.306121                         0\n",
              "179       11.100  157.4604  ...          54.870280                         1\n",
              "\n",
              "[5 rows x 7 columns]"
            ]
          },
          "metadata": {
            "tags": []
          },
          "execution_count": 99
        }
      ]
    },
    {
      "cell_type": "code",
      "metadata": {
        "id": "v1Yzo634jnqO",
        "colab_type": "code",
        "colab": {
          "base_uri": "https://localhost:8080/",
          "height": 446
        },
        "outputId": "eeb9c563-7b43-464d-8e56-1269417f5cfb"
      },
      "source": [
        "import statsmodels.formula.api as sm\n",
        "model=sm.ols(formula=\"Item_Outlet_Sales~Item_Weight+Item_MRP\",data=market5).fit()\n",
        "model.summary()"
      ],
      "execution_count": 100,
      "outputs": [
        {
          "output_type": "execute_result",
          "data": {
            "text/html": [
              "<table class=\"simpletable\">\n",
              "<caption>OLS Regression Results</caption>\n",
              "<tr>\n",
              "  <th>Dep. Variable:</th>    <td>Item_Outlet_Sales</td> <th>  R-squared:         </th> <td>   0.528</td>\n",
              "</tr>\n",
              "<tr>\n",
              "  <th>Model:</th>                   <td>OLS</td>        <th>  Adj. R-squared:    </th> <td>   0.525</td>\n",
              "</tr>\n",
              "<tr>\n",
              "  <th>Method:</th>             <td>Least Squares</td>   <th>  F-statistic:       </th> <td>   236.2</td>\n",
              "</tr>\n",
              "<tr>\n",
              "  <th>Date:</th>             <td>Fri, 22 May 2020</td>  <th>  Prob (F-statistic):</th> <td>1.35e-69</td>\n",
              "</tr>\n",
              "<tr>\n",
              "  <th>Time:</th>                 <td>18:26:54</td>      <th>  Log-Likelihood:    </th> <td> -1598.6</td>\n",
              "</tr>\n",
              "<tr>\n",
              "  <th>No. Observations:</th>      <td>   426</td>       <th>  AIC:               </th> <td>   3203.</td>\n",
              "</tr>\n",
              "<tr>\n",
              "  <th>Df Residuals:</th>          <td>   423</td>       <th>  BIC:               </th> <td>   3215.</td>\n",
              "</tr>\n",
              "<tr>\n",
              "  <th>Df Model:</th>              <td>     2</td>       <th>                     </th>     <td> </td>   \n",
              "</tr>\n",
              "<tr>\n",
              "  <th>Covariance Type:</th>      <td>nonrobust</td>     <th>                     </th>     <td> </td>   \n",
              "</tr>\n",
              "</table>\n",
              "<table class=\"simpletable\">\n",
              "<tr>\n",
              "       <td></td>          <th>coef</th>     <th>std err</th>      <th>t</th>      <th>P>|t|</th>  <th>[0.025</th>    <th>0.975]</th>  \n",
              "</tr>\n",
              "<tr>\n",
              "  <th>Intercept</th>   <td>   22.7872</td> <td>    1.616</td> <td>   14.105</td> <td> 0.000</td> <td>   19.612</td> <td>   25.963</td>\n",
              "</tr>\n",
              "<tr>\n",
              "  <th>Item_Weight</th> <td>   -0.2760</td> <td>    0.107</td> <td>   -2.590</td> <td> 0.010</td> <td>   -0.486</td> <td>   -0.067</td>\n",
              "</tr>\n",
              "<tr>\n",
              "  <th>Item_MRP</th>    <td>    0.1881</td> <td>    0.009</td> <td>   21.672</td> <td> 0.000</td> <td>    0.171</td> <td>    0.205</td>\n",
              "</tr>\n",
              "</table>\n",
              "<table class=\"simpletable\">\n",
              "<tr>\n",
              "  <th>Omnibus:</th>       <td> 4.553</td> <th>  Durbin-Watson:     </th> <td>   1.935</td>\n",
              "</tr>\n",
              "<tr>\n",
              "  <th>Prob(Omnibus):</th> <td> 0.103</td> <th>  Jarque-Bera (JB):  </th> <td>   4.393</td>\n",
              "</tr>\n",
              "<tr>\n",
              "  <th>Skew:</th>          <td>-0.246</td> <th>  Prob(JB):          </th> <td>   0.111</td>\n",
              "</tr>\n",
              "<tr>\n",
              "  <th>Kurtosis:</th>      <td> 3.077</td> <th>  Cond. No.          </th> <td>    450.</td>\n",
              "</tr>\n",
              "</table><br/><br/>Warnings:<br/>[1] Standard Errors assume that the covariance matrix of the errors is correctly specified."
            ],
            "text/plain": [
              "<class 'statsmodels.iolib.summary.Summary'>\n",
              "\"\"\"\n",
              "                            OLS Regression Results                            \n",
              "==============================================================================\n",
              "Dep. Variable:      Item_Outlet_Sales   R-squared:                       0.528\n",
              "Model:                            OLS   Adj. R-squared:                  0.525\n",
              "Method:                 Least Squares   F-statistic:                     236.2\n",
              "Date:                Fri, 22 May 2020   Prob (F-statistic):           1.35e-69\n",
              "Time:                        18:26:54   Log-Likelihood:                -1598.6\n",
              "No. Observations:                 426   AIC:                             3203.\n",
              "Df Residuals:                     423   BIC:                             3215.\n",
              "Df Model:                           2                                         \n",
              "Covariance Type:            nonrobust                                         \n",
              "===============================================================================\n",
              "                  coef    std err          t      P>|t|      [0.025      0.975]\n",
              "-------------------------------------------------------------------------------\n",
              "Intercept      22.7872      1.616     14.105      0.000      19.612      25.963\n",
              "Item_Weight    -0.2760      0.107     -2.590      0.010      -0.486      -0.067\n",
              "Item_MRP        0.1881      0.009     21.672      0.000       0.171       0.205\n",
              "==============================================================================\n",
              "Omnibus:                        4.553   Durbin-Watson:                   1.935\n",
              "Prob(Omnibus):                  0.103   Jarque-Bera (JB):                4.393\n",
              "Skew:                          -0.246   Prob(JB):                        0.111\n",
              "Kurtosis:                       3.077   Cond. No.                         450.\n",
              "==============================================================================\n",
              "\n",
              "Warnings:\n",
              "[1] Standard Errors assume that the covariance matrix of the errors is correctly specified.\n",
              "\"\"\""
            ]
          },
          "metadata": {
            "tags": []
          },
          "execution_count": 100
        }
      ]
    },
    {
      "cell_type": "code",
      "metadata": {
        "id": "GeIsj4MtjnqQ",
        "colab_type": "code",
        "colab": {
          "base_uri": "https://localhost:8080/",
          "height": 34
        },
        "outputId": "be2463e7-6cc4-49dd-c952-c495221e083e"
      },
      "source": [
        "from sklearn.linear_model import LinearRegression\n",
        "lr=LinearRegression()\n",
        "lr.fit(market5[[\"Item_Weight\",\"Item_MRP\"]],market5[[\"Item_Outlet_Sales\"]])"
      ],
      "execution_count": 101,
      "outputs": [
        {
          "output_type": "execute_result",
          "data": {
            "text/plain": [
              "LinearRegression(copy_X=True, fit_intercept=True, n_jobs=None, normalize=False)"
            ]
          },
          "metadata": {
            "tags": []
          },
          "execution_count": 101
        }
      ]
    },
    {
      "cell_type": "code",
      "metadata": {
        "id": "RATRjnuajnqT",
        "colab_type": "code",
        "colab": {
          "base_uri": "https://localhost:8080/",
          "height": 34
        },
        "outputId": "72b6e08c-c4ee-4629-a6c0-100d066d6df0"
      },
      "source": [
        "lr.score(market5[[\"Item_Weight\",\"Item_MRP\"]],market5[[\"Item_Outlet_Sales\"]])"
      ],
      "execution_count": 102,
      "outputs": [
        {
          "output_type": "execute_result",
          "data": {
            "text/plain": [
              "0.5275343247964914"
            ]
          },
          "metadata": {
            "tags": []
          },
          "execution_count": 102
        }
      ]
    },
    {
      "cell_type": "code",
      "metadata": {
        "id": "APaj5ad5jnqV",
        "colab_type": "code",
        "colab": {}
      },
      "source": [
        "market5[\"pred\"]=lr.predict(market5[[\"Item_Weight\",\"Item_MRP\"]])"
      ],
      "execution_count": 0,
      "outputs": []
    },
    {
      "cell_type": "code",
      "metadata": {
        "id": "auYeASs-jnqX",
        "colab_type": "code",
        "colab": {
          "base_uri": "https://localhost:8080/",
          "height": 195
        },
        "outputId": "53fc6fe7-c105-494a-d3d4-fd9865655007"
      },
      "source": [
        "market5.head()"
      ],
      "execution_count": 104,
      "outputs": [
        {
          "output_type": "execute_result",
          "data": {
            "text/html": [
              "<div>\n",
              "<style scoped>\n",
              "    .dataframe tbody tr th:only-of-type {\n",
              "        vertical-align: middle;\n",
              "    }\n",
              "\n",
              "    .dataframe tbody tr th {\n",
              "        vertical-align: top;\n",
              "    }\n",
              "\n",
              "    .dataframe thead th {\n",
              "        text-align: right;\n",
              "    }\n",
              "</style>\n",
              "<table border=\"1\" class=\"dataframe\">\n",
              "  <thead>\n",
              "    <tr style=\"text-align: right;\">\n",
              "      <th></th>\n",
              "      <th>Item_Weight</th>\n",
              "      <th>Item_MRP</th>\n",
              "      <th>Item_Fat_Content_reg</th>\n",
              "      <th>Outlet_Identifier_OUT035</th>\n",
              "      <th>Outlet_Identifier_OUT046</th>\n",
              "      <th>Item_Outlet_Sales</th>\n",
              "      <th>Item_Fat_Content_Low_Fat</th>\n",
              "      <th>pred</th>\n",
              "    </tr>\n",
              "  </thead>\n",
              "  <tbody>\n",
              "    <tr>\n",
              "      <th>48</th>\n",
              "      <td>15.850</td>\n",
              "      <td>60.6220</td>\n",
              "      <td>0</td>\n",
              "      <td>0</td>\n",
              "      <td>1</td>\n",
              "      <td>50.760674</td>\n",
              "      <td>0</td>\n",
              "      <td>29.816058</td>\n",
              "    </tr>\n",
              "    <tr>\n",
              "      <th>71</th>\n",
              "      <td>15.850</td>\n",
              "      <td>59.2220</td>\n",
              "      <td>0</td>\n",
              "      <td>0</td>\n",
              "      <td>0</td>\n",
              "      <td>24.478971</td>\n",
              "      <td>0</td>\n",
              "      <td>29.552691</td>\n",
              "    </tr>\n",
              "    <tr>\n",
              "      <th>106</th>\n",
              "      <td>10.500</td>\n",
              "      <td>163.1210</td>\n",
              "      <td>0</td>\n",
              "      <td>0</td>\n",
              "      <td>0</td>\n",
              "      <td>42.359544</td>\n",
              "      <td>0</td>\n",
              "      <td>50.574908</td>\n",
              "    </tr>\n",
              "    <tr>\n",
              "      <th>107</th>\n",
              "      <td>6.635</td>\n",
              "      <td>121.3098</td>\n",
              "      <td>0</td>\n",
              "      <td>0</td>\n",
              "      <td>0</td>\n",
              "      <td>50.306121</td>\n",
              "      <td>0</td>\n",
              "      <td>43.776318</td>\n",
              "    </tr>\n",
              "    <tr>\n",
              "      <th>179</th>\n",
              "      <td>11.100</td>\n",
              "      <td>157.4604</td>\n",
              "      <td>0</td>\n",
              "      <td>0</td>\n",
              "      <td>0</td>\n",
              "      <td>54.870280</td>\n",
              "      <td>1</td>\n",
              "      <td>49.344415</td>\n",
              "    </tr>\n",
              "  </tbody>\n",
              "</table>\n",
              "</div>"
            ],
            "text/plain": [
              "     Item_Weight  Item_MRP  ...  Item_Fat_Content_Low_Fat       pred\n",
              "48        15.850   60.6220  ...                         0  29.816058\n",
              "71        15.850   59.2220  ...                         0  29.552691\n",
              "106       10.500  163.1210  ...                         0  50.574908\n",
              "107        6.635  121.3098  ...                         0  43.776318\n",
              "179       11.100  157.4604  ...                         1  49.344415\n",
              "\n",
              "[5 rows x 8 columns]"
            ]
          },
          "metadata": {
            "tags": []
          },
          "execution_count": 104
        }
      ]
    },
    {
      "cell_type": "code",
      "metadata": {
        "id": "0kT0U9QHjnqZ",
        "colab_type": "code",
        "colab": {}
      },
      "source": [
        "market5[\"Item_Outlet_Sales_sqr\"]=np.square(market5[\"Item_Outlet_Sales\"])\n"
      ],
      "execution_count": 0,
      "outputs": []
    },
    {
      "cell_type": "code",
      "metadata": {
        "id": "vOLQ5dNKjnqd",
        "colab_type": "code",
        "colab": {
          "base_uri": "https://localhost:8080/",
          "height": 34
        },
        "outputId": "ce28f7c1-e7b8-4529-c224-df3b93b695f4"
      },
      "source": [
        "market5[\"pred_sqr\"]= np.square(market5[\"pred\"])\n",
        "market5.shape"
      ],
      "execution_count": 106,
      "outputs": [
        {
          "output_type": "execute_result",
          "data": {
            "text/plain": [
              "(426, 10)"
            ]
          },
          "metadata": {
            "tags": []
          },
          "execution_count": 106
        }
      ]
    },
    {
      "cell_type": "code",
      "metadata": {
        "id": "-nb_v7g1jnqf",
        "colab_type": "code",
        "colab": {
          "base_uri": "https://localhost:8080/",
          "height": 607
        },
        "outputId": "342c71a1-225c-4a9a-9cec-a2e96c1b2c55"
      },
      "source": [
        "market6=market5[[\"Item_Outlet_Sales_sqr\",\"pred_sqr\"]]\n",
        "market7 = market6.head(50)\n",
        "market7.plot(kind='bar',figsize=(16,10))\n",
        "plt.grid(which='major', linestyle='-', linewidth='0.5', color='green')\n",
        "plt.grid(which='minor', linestyle=':', linewidth='0.5', color='black')\n",
        "plt.show()"
      ],
      "execution_count": 107,
      "outputs": [
        {
          "output_type": "display_data",
          "data": {
            "image/png": "[encoded data removed]",
            "text/plain": [
              "<Figure size 1152x720 with 1 Axes>"
            ]
          },
          "metadata": {
            "tags": [],
            "needs_background": "light"
          }
        }
      ]
    },
    {
      "cell_type": "code",
      "metadata": {
        "id": "d7Im0Ov7oXWK",
        "colab_type": "code",
        "colab": {}
      },
      "source": [
        "downloaded1 = drive.CreateFile({'id':\"1lwSNPGZT6aNQiMF_dMBgBBdrPQyJA_vB\"})\n",
        "downloaded1.GetContentFile('test.csv')"
      ],
      "execution_count": 0,
      "outputs": []
    },
    {
      "cell_type": "code",
      "metadata": {
        "id": "7yWj1pj8jnqh",
        "colab_type": "code",
        "colab": {}
      },
      "source": [
        "market_test=pd.read_csv('test.csv')"
      ],
      "execution_count": 0,
      "outputs": []
    },
    {
      "cell_type": "code",
      "metadata": {
        "id": "XTkIF4GGjnqj",
        "colab_type": "code",
        "colab": {
          "base_uri": "https://localhost:8080/",
          "height": 299
        },
        "outputId": "eafb483d-e417-4255-c90b-9698f90c902d"
      },
      "source": [
        "market_test.head()"
      ],
      "execution_count": 110,
      "outputs": [
        {
          "output_type": "execute_result",
          "data": {
            "text/html": [
              "<div>\n",
              "<style scoped>\n",
              "    .dataframe tbody tr th:only-of-type {\n",
              "        vertical-align: middle;\n",
              "    }\n",
              "\n",
              "    .dataframe tbody tr th {\n",
              "        vertical-align: top;\n",
              "    }\n",
              "\n",
              "    .dataframe thead th {\n",
              "        text-align: right;\n",
              "    }\n",
              "</style>\n",
              "<table border=\"1\" class=\"dataframe\">\n",
              "  <thead>\n",
              "    <tr style=\"text-align: right;\">\n",
              "      <th></th>\n",
              "      <th>Item_Identifier</th>\n",
              "      <th>Item_Weight</th>\n",
              "      <th>Item_Fat_Content</th>\n",
              "      <th>Item_Visibility</th>\n",
              "      <th>Item_Type</th>\n",
              "      <th>Item_MRP</th>\n",
              "      <th>Outlet_Identifier</th>\n",
              "      <th>Outlet_Establishment_Year</th>\n",
              "      <th>Outlet_Size</th>\n",
              "      <th>Outlet_Location_Type</th>\n",
              "      <th>Outlet_Type</th>\n",
              "    </tr>\n",
              "  </thead>\n",
              "  <tbody>\n",
              "    <tr>\n",
              "      <th>0</th>\n",
              "      <td>FDW58</td>\n",
              "      <td>20.750</td>\n",
              "      <td>Low Fat</td>\n",
              "      <td>0.007565</td>\n",
              "      <td>Snack Foods</td>\n",
              "      <td>107.8622</td>\n",
              "      <td>OUT049</td>\n",
              "      <td>1999</td>\n",
              "      <td>Medium</td>\n",
              "      <td>Tier 1</td>\n",
              "      <td>Supermarket Type1</td>\n",
              "    </tr>\n",
              "    <tr>\n",
              "      <th>1</th>\n",
              "      <td>FDW14</td>\n",
              "      <td>8.300</td>\n",
              "      <td>reg</td>\n",
              "      <td>0.038428</td>\n",
              "      <td>Dairy</td>\n",
              "      <td>87.3198</td>\n",
              "      <td>OUT017</td>\n",
              "      <td>2007</td>\n",
              "      <td>NaN</td>\n",
              "      <td>Tier 2</td>\n",
              "      <td>Supermarket Type1</td>\n",
              "    </tr>\n",
              "    <tr>\n",
              "      <th>2</th>\n",
              "      <td>NCN55</td>\n",
              "      <td>14.600</td>\n",
              "      <td>Low Fat</td>\n",
              "      <td>0.099575</td>\n",
              "      <td>Others</td>\n",
              "      <td>241.7538</td>\n",
              "      <td>OUT010</td>\n",
              "      <td>1998</td>\n",
              "      <td>NaN</td>\n",
              "      <td>Tier 3</td>\n",
              "      <td>Grocery Store</td>\n",
              "    </tr>\n",
              "    <tr>\n",
              "      <th>3</th>\n",
              "      <td>FDQ58</td>\n",
              "      <td>7.315</td>\n",
              "      <td>Low Fat</td>\n",
              "      <td>0.015388</td>\n",
              "      <td>Snack Foods</td>\n",
              "      <td>155.0340</td>\n",
              "      <td>OUT017</td>\n",
              "      <td>2007</td>\n",
              "      <td>NaN</td>\n",
              "      <td>Tier 2</td>\n",
              "      <td>Supermarket Type1</td>\n",
              "    </tr>\n",
              "    <tr>\n",
              "      <th>4</th>\n",
              "      <td>FDY38</td>\n",
              "      <td>NaN</td>\n",
              "      <td>Regular</td>\n",
              "      <td>0.118599</td>\n",
              "      <td>Dairy</td>\n",
              "      <td>234.2300</td>\n",
              "      <td>OUT027</td>\n",
              "      <td>1985</td>\n",
              "      <td>Medium</td>\n",
              "      <td>Tier 3</td>\n",
              "      <td>Supermarket Type3</td>\n",
              "    </tr>\n",
              "  </tbody>\n",
              "</table>\n",
              "</div>"
            ],
            "text/plain": [
              "  Item_Identifier  Item_Weight  ... Outlet_Location_Type        Outlet_Type\n",
              "0           FDW58       20.750  ...               Tier 1  Supermarket Type1\n",
              "1           FDW14        8.300  ...               Tier 2  Supermarket Type1\n",
              "2           NCN55       14.600  ...               Tier 3      Grocery Store\n",
              "3           FDQ58        7.315  ...               Tier 2  Supermarket Type1\n",
              "4           FDY38          NaN  ...               Tier 3  Supermarket Type3\n",
              "\n",
              "[5 rows x 11 columns]"
            ]
          },
          "metadata": {
            "tags": []
          },
          "execution_count": 110
        }
      ]
    },
    {
      "cell_type": "code",
      "metadata": {
        "id": "iF-5PE4Ajnql",
        "colab_type": "code",
        "colab": {
          "base_uri": "https://localhost:8080/",
          "height": 299
        },
        "outputId": "ed6b6a76-4295-41ef-d8cc-0201aa637c5b"
      },
      "source": [
        "market_test1=market_test[(market_test[\"Item_Type\"]==\"Baking Goods\" ) & (market_test[\"Outlet_Type\"]==\"Supermarket Type1\")]\n",
        "market_test1.head()"
      ],
      "execution_count": 111,
      "outputs": [
        {
          "output_type": "execute_result",
          "data": {
            "text/html": [
              "<div>\n",
              "<style scoped>\n",
              "    .dataframe tbody tr th:only-of-type {\n",
              "        vertical-align: middle;\n",
              "    }\n",
              "\n",
              "    .dataframe tbody tr th {\n",
              "        vertical-align: top;\n",
              "    }\n",
              "\n",
              "    .dataframe thead th {\n",
              "        text-align: right;\n",
              "    }\n",
              "</style>\n",
              "<table border=\"1\" class=\"dataframe\">\n",
              "  <thead>\n",
              "    <tr style=\"text-align: right;\">\n",
              "      <th></th>\n",
              "      <th>Item_Identifier</th>\n",
              "      <th>Item_Weight</th>\n",
              "      <th>Item_Fat_Content</th>\n",
              "      <th>Item_Visibility</th>\n",
              "      <th>Item_Type</th>\n",
              "      <th>Item_MRP</th>\n",
              "      <th>Outlet_Identifier</th>\n",
              "      <th>Outlet_Establishment_Year</th>\n",
              "      <th>Outlet_Size</th>\n",
              "      <th>Outlet_Location_Type</th>\n",
              "      <th>Outlet_Type</th>\n",
              "    </tr>\n",
              "  </thead>\n",
              "  <tbody>\n",
              "    <tr>\n",
              "      <th>9</th>\n",
              "      <td>FDA36</td>\n",
              "      <td>5.985</td>\n",
              "      <td>Low Fat</td>\n",
              "      <td>0.005698</td>\n",
              "      <td>Baking Goods</td>\n",
              "      <td>186.8924</td>\n",
              "      <td>OUT017</td>\n",
              "      <td>2007</td>\n",
              "      <td>NaN</td>\n",
              "      <td>Tier 2</td>\n",
              "      <td>Supermarket Type1</td>\n",
              "    </tr>\n",
              "    <tr>\n",
              "      <th>15</th>\n",
              "      <td>FDM24</td>\n",
              "      <td>6.135</td>\n",
              "      <td>Regular</td>\n",
              "      <td>0.079451</td>\n",
              "      <td>Baking Goods</td>\n",
              "      <td>151.6366</td>\n",
              "      <td>OUT049</td>\n",
              "      <td>1999</td>\n",
              "      <td>Medium</td>\n",
              "      <td>Tier 1</td>\n",
              "      <td>Supermarket Type1</td>\n",
              "    </tr>\n",
              "    <tr>\n",
              "      <th>60</th>\n",
              "      <td>FDW12</td>\n",
              "      <td>8.315</td>\n",
              "      <td>Regular</td>\n",
              "      <td>0.035565</td>\n",
              "      <td>Baking Goods</td>\n",
              "      <td>144.8444</td>\n",
              "      <td>OUT035</td>\n",
              "      <td>2004</td>\n",
              "      <td>Small</td>\n",
              "      <td>Tier 2</td>\n",
              "      <td>Supermarket Type1</td>\n",
              "    </tr>\n",
              "    <tr>\n",
              "      <th>98</th>\n",
              "      <td>FDZ36</td>\n",
              "      <td>6.035</td>\n",
              "      <td>Regular</td>\n",
              "      <td>0.065917</td>\n",
              "      <td>Baking Goods</td>\n",
              "      <td>185.7240</td>\n",
              "      <td>OUT045</td>\n",
              "      <td>2002</td>\n",
              "      <td>NaN</td>\n",
              "      <td>Tier 2</td>\n",
              "      <td>Supermarket Type1</td>\n",
              "    </tr>\n",
              "    <tr>\n",
              "      <th>101</th>\n",
              "      <td>FDK60</td>\n",
              "      <td>16.500</td>\n",
              "      <td>Regular</td>\n",
              "      <td>0.094395</td>\n",
              "      <td>Baking Goods</td>\n",
              "      <td>97.2068</td>\n",
              "      <td>OUT017</td>\n",
              "      <td>2007</td>\n",
              "      <td>NaN</td>\n",
              "      <td>Tier 2</td>\n",
              "      <td>Supermarket Type1</td>\n",
              "    </tr>\n",
              "  </tbody>\n",
              "</table>\n",
              "</div>"
            ],
            "text/plain": [
              "    Item_Identifier  Item_Weight  ... Outlet_Location_Type        Outlet_Type\n",
              "9             FDA36        5.985  ...               Tier 2  Supermarket Type1\n",
              "15            FDM24        6.135  ...               Tier 1  Supermarket Type1\n",
              "60            FDW12        8.315  ...               Tier 2  Supermarket Type1\n",
              "98            FDZ36        6.035  ...               Tier 2  Supermarket Type1\n",
              "101           FDK60       16.500  ...               Tier 2  Supermarket Type1\n",
              "\n",
              "[5 rows x 11 columns]"
            ]
          },
          "metadata": {
            "tags": []
          },
          "execution_count": 111
        }
      ]
    },
    {
      "cell_type": "code",
      "metadata": {
        "id": "ZVmcxmlOjnqp",
        "colab_type": "code",
        "colab": {
          "base_uri": "https://localhost:8080/",
          "height": 34
        },
        "outputId": "f22e5186-2f59-4c96-88ae-6590e7f8a6f6"
      },
      "source": [
        "market_test1.shape"
      ],
      "execution_count": 112,
      "outputs": [
        {
          "output_type": "execute_result",
          "data": {
            "text/plain": [
              "(283, 11)"
            ]
          },
          "metadata": {
            "tags": []
          },
          "execution_count": 112
        }
      ]
    },
    {
      "cell_type": "code",
      "metadata": {
        "id": "gSfb6_0ajnqs",
        "colab_type": "code",
        "colab": {
          "base_uri": "https://localhost:8080/",
          "height": 195
        },
        "outputId": "55a16f57-3951-4716-e90d-5e650dc76027"
      },
      "source": [
        "market_test2=market_test1[[\"Item_Weight\",\"Item_MRP\"]]\n",
        "market_test2.head()"
      ],
      "execution_count": 113,
      "outputs": [
        {
          "output_type": "execute_result",
          "data": {
            "text/html": [
              "<div>\n",
              "<style scoped>\n",
              "    .dataframe tbody tr th:only-of-type {\n",
              "        vertical-align: middle;\n",
              "    }\n",
              "\n",
              "    .dataframe tbody tr th {\n",
              "        vertical-align: top;\n",
              "    }\n",
              "\n",
              "    .dataframe thead th {\n",
              "        text-align: right;\n",
              "    }\n",
              "</style>\n",
              "<table border=\"1\" class=\"dataframe\">\n",
              "  <thead>\n",
              "    <tr style=\"text-align: right;\">\n",
              "      <th></th>\n",
              "      <th>Item_Weight</th>\n",
              "      <th>Item_MRP</th>\n",
              "    </tr>\n",
              "  </thead>\n",
              "  <tbody>\n",
              "    <tr>\n",
              "      <th>9</th>\n",
              "      <td>5.985</td>\n",
              "      <td>186.8924</td>\n",
              "    </tr>\n",
              "    <tr>\n",
              "      <th>15</th>\n",
              "      <td>6.135</td>\n",
              "      <td>151.6366</td>\n",
              "    </tr>\n",
              "    <tr>\n",
              "      <th>60</th>\n",
              "      <td>8.315</td>\n",
              "      <td>144.8444</td>\n",
              "    </tr>\n",
              "    <tr>\n",
              "      <th>98</th>\n",
              "      <td>6.035</td>\n",
              "      <td>185.7240</td>\n",
              "    </tr>\n",
              "    <tr>\n",
              "      <th>101</th>\n",
              "      <td>16.500</td>\n",
              "      <td>97.2068</td>\n",
              "    </tr>\n",
              "  </tbody>\n",
              "</table>\n",
              "</div>"
            ],
            "text/plain": [
              "     Item_Weight  Item_MRP\n",
              "9          5.985  186.8924\n",
              "15         6.135  151.6366\n",
              "60         8.315  144.8444\n",
              "98         6.035  185.7240\n",
              "101       16.500   97.2068"
            ]
          },
          "metadata": {
            "tags": []
          },
          "execution_count": 113
        }
      ]
    },
    {
      "cell_type": "code",
      "metadata": {
        "id": "Dv5pnni8jnqw",
        "colab_type": "code",
        "colab": {
          "base_uri": "https://localhost:8080/",
          "height": 118
        },
        "outputId": "2335efa3-7862-4601-e7d8-f5002a7a5523"
      },
      "source": [
        "market_test2[\"pred\"]=lr.predict(market_test2[[\"Item_Weight\",\"Item_MRP\"]])"
      ],
      "execution_count": 114,
      "outputs": [
        {
          "output_type": "stream",
          "text": [
            "/usr/local/lib/python3.6/dist-packages/ipykernel_launcher.py:1: SettingWithCopyWarning: \n",
            "A value is trying to be set on a copy of a slice from a DataFrame.\n",
            "Try using .loc[row_indexer,col_indexer] = value instead\n",
            "\n",
            "See the caveats in the documentation: https://pandas.pydata.org/pandas-docs/stable/user_guide/indexing.html#returning-a-view-versus-a-copy\n",
            "  \"\"\"Entry point for launching an IPython kernel.\n"
          ],
          "name": "stderr"
        }
      ]
    },
    {
      "cell_type": "code",
      "metadata": {
        "id": "dMfNfXHGjnqy",
        "colab_type": "code",
        "colab": {
          "base_uri": "https://localhost:8080/",
          "height": 296
        },
        "outputId": "9c986250-da9b-4553-bb26-dec588946b0d"
      },
      "source": [
        "market_test2[\"pred_sqr\"]=np.square(market_test2[\"pred\"])\n",
        "market_test2.head()"
      ],
      "execution_count": 115,
      "outputs": [
        {
          "output_type": "stream",
          "text": [
            "/usr/local/lib/python3.6/dist-packages/ipykernel_launcher.py:1: SettingWithCopyWarning: \n",
            "A value is trying to be set on a copy of a slice from a DataFrame.\n",
            "Try using .loc[row_indexer,col_indexer] = value instead\n",
            "\n",
            "See the caveats in the documentation: https://pandas.pydata.org/pandas-docs/stable/user_guide/indexing.html#returning-a-view-versus-a-copy\n",
            "  \"\"\"Entry point for launching an IPython kernel.\n"
          ],
          "name": "stderr"
        },
        {
          "output_type": "execute_result",
          "data": {
            "text/html": [
              "<div>\n",
              "<style scoped>\n",
              "    .dataframe tbody tr th:only-of-type {\n",
              "        vertical-align: middle;\n",
              "    }\n",
              "\n",
              "    .dataframe tbody tr th {\n",
              "        vertical-align: top;\n",
              "    }\n",
              "\n",
              "    .dataframe thead th {\n",
              "        text-align: right;\n",
              "    }\n",
              "</style>\n",
              "<table border=\"1\" class=\"dataframe\">\n",
              "  <thead>\n",
              "    <tr style=\"text-align: right;\">\n",
              "      <th></th>\n",
              "      <th>Item_Weight</th>\n",
              "      <th>Item_MRP</th>\n",
              "      <th>pred</th>\n",
              "      <th>pred_sqr</th>\n",
              "    </tr>\n",
              "  </thead>\n",
              "  <tbody>\n",
              "    <tr>\n",
              "      <th>9</th>\n",
              "      <td>5.985</td>\n",
              "      <td>186.8924</td>\n",
              "      <td>56.293090</td>\n",
              "      <td>3168.912030</td>\n",
              "    </tr>\n",
              "    <tr>\n",
              "      <th>15</th>\n",
              "      <td>6.135</td>\n",
              "      <td>151.6366</td>\n",
              "      <td>49.619392</td>\n",
              "      <td>2462.084032</td>\n",
              "    </tr>\n",
              "    <tr>\n",
              "      <th>60</th>\n",
              "      <td>8.315</td>\n",
              "      <td>144.8444</td>\n",
              "      <td>47.739879</td>\n",
              "      <td>2279.096009</td>\n",
              "    </tr>\n",
              "    <tr>\n",
              "      <th>98</th>\n",
              "      <td>6.035</td>\n",
              "      <td>185.7240</td>\n",
              "      <td>56.059490</td>\n",
              "      <td>3142.666408</td>\n",
              "    </tr>\n",
              "    <tr>\n",
              "      <th>101</th>\n",
              "      <td>16.500</td>\n",
              "      <td>97.2068</td>\n",
              "      <td>36.518934</td>\n",
              "      <td>1333.632559</td>\n",
              "    </tr>\n",
              "  </tbody>\n",
              "</table>\n",
              "</div>"
            ],
            "text/plain": [
              "     Item_Weight  Item_MRP       pred     pred_sqr\n",
              "9          5.985  186.8924  56.293090  3168.912030\n",
              "15         6.135  151.6366  49.619392  2462.084032\n",
              "60         8.315  144.8444  47.739879  2279.096009\n",
              "98         6.035  185.7240  56.059490  3142.666408\n",
              "101       16.500   97.2068  36.518934  1333.632559"
            ]
          },
          "metadata": {
            "tags": []
          },
          "execution_count": 115
        }
      ]
    },
    {
      "cell_type": "code",
      "metadata": {
        "id": "c0Rz1_Fkjnq0",
        "colab_type": "code",
        "colab": {}
      },
      "source": [
        "#Gradient Decent"
      ],
      "execution_count": 0,
      "outputs": []
    },
    {
      "cell_type": "code",
      "metadata": {
        "id": "FhPcnw04jnq2",
        "colab_type": "code",
        "colab": {}
      },
      "source": [
        "from sklearn.metrics import mean_squared_error"
      ],
      "execution_count": 0,
      "outputs": []
    },
    {
      "cell_type": "code",
      "metadata": {
        "id": "c6TLZ9yAjnq3",
        "colab_type": "code",
        "colab": {
          "base_uri": "https://localhost:8080/",
          "height": 34
        },
        "outputId": "e87f610d-b5fe-405c-ef44-221f85c8abb7"
      },
      "source": [
        "print(\"train_MSE\",mean_squared_error(market5[[\"Item_Outlet_Sales\"]],market5[[\"pred\"]]))"
      ],
      "execution_count": 118,
      "outputs": [
        {
          "output_type": "stream",
          "text": [
            "train_MSE 106.40879137103074\n"
          ],
          "name": "stdout"
        }
      ]
    },
    {
      "cell_type": "code",
      "metadata": {
        "id": "mEEOvUzDjnq5",
        "colab_type": "code",
        "colab": {
          "base_uri": "https://localhost:8080/",
          "height": 34
        },
        "outputId": "646a5697-fc8a-478b-87eb-db4d4867bf0d"
      },
      "source": [
        "print(\"train_RMSE\",np.sqrt(mean_squared_error(market5[[\"Item_Outlet_Sales\"]],market5[[\"pred\"]])))"
      ],
      "execution_count": 119,
      "outputs": [
        {
          "output_type": "stream",
          "text": [
            "train_RMSE 10.315463701212405\n"
          ],
          "name": "stdout"
        }
      ]
    },
    {
      "cell_type": "code",
      "metadata": {
        "id": "rtIAIrKgjnq8",
        "colab_type": "code",
        "colab": {
          "base_uri": "https://localhost:8080/",
          "height": 34
        },
        "outputId": "e6878b6b-cb19-4c4a-a977-68ec37cd51e5"
      },
      "source": [
        "import warnings\n",
        "from keras import Sequential\n",
        "from keras.layers import Dense\n",
        "def build_regressor():\n",
        "    regressor = Sequential()\n",
        "    regressor.add(Dense(units=2, input_dim=2)) # input layer\n",
        "    regressor.add(Dense(units=1)) # output layer\n",
        "    regressor.compile(optimizer='adam', loss='mean_squared_error',  metrics=['mae','accuracy'])\n",
        "    return regressor"
      ],
      "execution_count": 120,
      "outputs": [
        {
          "output_type": "stream",
          "text": [
            "Using TensorFlow backend.\n"
          ],
          "name": "stderr"
        }
      ]
    },
    {
      "cell_type": "code",
      "metadata": {
        "id": "EZhKiBCujnrA",
        "colab_type": "code",
        "colab": {}
      },
      "source": [
        "from keras.wrappers.scikit_learn import KerasRegressor\n",
        "regressor = KerasRegressor(build_fn=build_regressor, epochs=100)\n"
      ],
      "execution_count": 0,
      "outputs": []
    },
    {
      "cell_type": "code",
      "metadata": {
        "id": "Gn62STRbjnrC",
        "colab_type": "code",
        "colab": {
          "base_uri": "https://localhost:8080/",
          "height": 218
        },
        "outputId": "61690ab5-81b7-4e14-ed42-6b5ffccd1b73"
      },
      "source": [
        "x_train=market5[[\"Item_Weight\",\"Item_MRP\"]]\n",
        "y_train=market5[[\"Item_Outlet_Sales\"]]\n",
        "print(x_train.head())\n",
        "print(y_train.head())"
      ],
      "execution_count": 122,
      "outputs": [
        {
          "output_type": "stream",
          "text": [
            "     Item_Weight  Item_MRP\n",
            "48        15.850   60.6220\n",
            "71        15.850   59.2220\n",
            "106       10.500  163.1210\n",
            "107        6.635  121.3098\n",
            "179       11.100  157.4604\n",
            "     Item_Outlet_Sales\n",
            "48           50.760674\n",
            "71           24.478971\n",
            "106          42.359544\n",
            "107          50.306121\n",
            "179          54.870280\n"
          ],
          "name": "stdout"
        }
      ]
    },
    {
      "cell_type": "code",
      "metadata": {
        "id": "Ggn_MdwjjnrE",
        "colab_type": "code",
        "colab": {
          "base_uri": "https://localhost:8080/",
          "height": 1000
        },
        "outputId": "2344d75c-44d3-4e7c-ceaa-6880cbf4e367"
      },
      "source": [
        "results=regressor.fit(x_train,y_train)"
      ],
      "execution_count": 123,
      "outputs": [
        {
          "output_type": "stream",
          "text": [
            "Epoch 1/100\n",
            "426/426 [==============================] - 0s 688us/step - loss: 888.1008 - mae: 23.3542 - accuracy: 0.0000e+00\n",
            "Epoch 2/100\n",
            "426/426 [==============================] - 0s 45us/step - loss: 694.1948 - mae: 20.2808 - accuracy: 0.0000e+00\n",
            "Epoch 3/100\n",
            "426/426 [==============================] - 0s 41us/step - loss: 537.2523 - mae: 17.6128 - accuracy: 0.0000e+00\n",
            "Epoch 4/100\n",
            "426/426 [==============================] - 0s 42us/step - loss: 424.4297 - mae: 15.5145 - accuracy: 0.0000e+00\n",
            "Epoch 5/100\n",
            "426/426 [==============================] - 0s 43us/step - loss: 342.0236 - mae: 13.8963 - accuracy: 0.0000e+00\n",
            "Epoch 6/100\n",
            "426/426 [==============================] - 0s 54us/step - loss: 284.6620 - mae: 12.6970 - accuracy: 0.0000e+00\n",
            "Epoch 7/100\n",
            "426/426 [==============================] - 0s 42us/step - loss: 242.9248 - mae: 11.7875 - accuracy: 0.0000e+00\n",
            "Epoch 8/100\n",
            "426/426 [==============================] - 0s 42us/step - loss: 215.3828 - mae: 11.2222 - accuracy: 0.0000e+00\n",
            "Epoch 9/100\n",
            "426/426 [==============================] - 0s 42us/step - loss: 196.9235 - mae: 10.8436 - accuracy: 0.0000e+00\n",
            "Epoch 10/100\n",
            "426/426 [==============================] - 0s 43us/step - loss: 185.0664 - mae: 10.6056 - accuracy: 0.0000e+00\n",
            "Epoch 11/100\n",
            "426/426 [==============================] - 0s 43us/step - loss: 175.8596 - mae: 10.4351 - accuracy: 0.0000e+00\n",
            "Epoch 12/100\n",
            "426/426 [==============================] - 0s 40us/step - loss: 170.5685 - mae: 10.3354 - accuracy: 0.0000e+00\n",
            "Epoch 13/100\n",
            "426/426 [==============================] - 0s 49us/step - loss: 166.9836 - mae: 10.2632 - accuracy: 0.0000e+00\n",
            "Epoch 14/100\n",
            "426/426 [==============================] - 0s 38us/step - loss: 164.6805 - mae: 10.2265 - accuracy: 0.0000e+00\n",
            "Epoch 15/100\n",
            "426/426 [==============================] - 0s 45us/step - loss: 163.4264 - mae: 10.2155 - accuracy: 0.0000e+00\n",
            "Epoch 16/100\n",
            "426/426 [==============================] - 0s 47us/step - loss: 162.6093 - mae: 10.2297 - accuracy: 0.0000e+00\n",
            "Epoch 17/100\n",
            "426/426 [==============================] - 0s 42us/step - loss: 161.7438 - mae: 10.2267 - accuracy: 0.0000e+00\n",
            "Epoch 18/100\n",
            "426/426 [==============================] - 0s 42us/step - loss: 161.5106 - mae: 10.2312 - accuracy: 0.0000e+00\n",
            "Epoch 19/100\n",
            "426/426 [==============================] - 0s 41us/step - loss: 161.2115 - mae: 10.2356 - accuracy: 0.0000e+00\n",
            "Epoch 20/100\n",
            "426/426 [==============================] - 0s 42us/step - loss: 161.0690 - mae: 10.2512 - accuracy: 0.0000e+00\n",
            "Epoch 21/100\n",
            "426/426 [==============================] - 0s 42us/step - loss: 160.9126 - mae: 10.2579 - accuracy: 0.0000e+00\n",
            "Epoch 22/100\n",
            "426/426 [==============================] - 0s 41us/step - loss: 160.8825 - mae: 10.2614 - accuracy: 0.0000e+00\n",
            "Epoch 23/100\n",
            "426/426 [==============================] - 0s 45us/step - loss: 160.7834 - mae: 10.2590 - accuracy: 0.0000e+00\n",
            "Epoch 24/100\n",
            "426/426 [==============================] - 0s 41us/step - loss: 160.7342 - mae: 10.2624 - accuracy: 0.0000e+00\n",
            "Epoch 25/100\n",
            "426/426 [==============================] - 0s 57us/step - loss: 160.6645 - mae: 10.2600 - accuracy: 0.0000e+00\n",
            "Epoch 26/100\n",
            "426/426 [==============================] - 0s 41us/step - loss: 160.6135 - mae: 10.2544 - accuracy: 0.0000e+00\n",
            "Epoch 27/100\n",
            "426/426 [==============================] - 0s 37us/step - loss: 160.5857 - mae: 10.2551 - accuracy: 0.0000e+00\n",
            "Epoch 28/100\n",
            "426/426 [==============================] - 0s 41us/step - loss: 160.4752 - mae: 10.2498 - accuracy: 0.0000e+00\n",
            "Epoch 29/100\n",
            "426/426 [==============================] - 0s 40us/step - loss: 160.4150 - mae: 10.2472 - accuracy: 0.0000e+00\n",
            "Epoch 30/100\n",
            "426/426 [==============================] - 0s 45us/step - loss: 160.3530 - mae: 10.2471 - accuracy: 0.0000e+00\n",
            "Epoch 31/100\n",
            "426/426 [==============================] - 0s 43us/step - loss: 160.3382 - mae: 10.2506 - accuracy: 0.0000e+00\n",
            "Epoch 32/100\n",
            "426/426 [==============================] - 0s 45us/step - loss: 160.2798 - mae: 10.2432 - accuracy: 0.0000e+00\n",
            "Epoch 33/100\n",
            "426/426 [==============================] - 0s 41us/step - loss: 160.1487 - mae: 10.2390 - accuracy: 0.0000e+00\n",
            "Epoch 34/100\n",
            "426/426 [==============================] - 0s 41us/step - loss: 160.4684 - mae: 10.2592 - accuracy: 0.0000e+00\n",
            "Epoch 35/100\n",
            "426/426 [==============================] - 0s 54us/step - loss: 160.1469 - mae: 10.2418 - accuracy: 0.0000e+00\n",
            "Epoch 36/100\n",
            "426/426 [==============================] - 0s 45us/step - loss: 159.9540 - mae: 10.2365 - accuracy: 0.0000e+00\n",
            "Epoch 37/100\n",
            "426/426 [==============================] - 0s 44us/step - loss: 159.8756 - mae: 10.2305 - accuracy: 0.0000e+00\n",
            "Epoch 38/100\n",
            "426/426 [==============================] - 0s 44us/step - loss: 159.8114 - mae: 10.2271 - accuracy: 0.0000e+00\n",
            "Epoch 39/100\n",
            "426/426 [==============================] - 0s 42us/step - loss: 159.7244 - mae: 10.2267 - accuracy: 0.0000e+00\n",
            "Epoch 40/100\n",
            "426/426 [==============================] - 0s 41us/step - loss: 159.7026 - mae: 10.2316 - accuracy: 0.0000e+00\n",
            "Epoch 41/100\n",
            "426/426 [==============================] - 0s 42us/step - loss: 159.6119 - mae: 10.2297 - accuracy: 0.0000e+00\n",
            "Epoch 42/100\n",
            "426/426 [==============================] - 0s 41us/step - loss: 159.5336 - mae: 10.2238 - accuracy: 0.0000e+00\n",
            "Epoch 43/100\n",
            "426/426 [==============================] - 0s 41us/step - loss: 159.4850 - mae: 10.2121 - accuracy: 0.0000e+00\n",
            "Epoch 44/100\n",
            "426/426 [==============================] - 0s 44us/step - loss: 159.4052 - mae: 10.2071 - accuracy: 0.0000e+00\n",
            "Epoch 45/100\n",
            "426/426 [==============================] - 0s 40us/step - loss: 159.3314 - mae: 10.2008 - accuracy: 0.0000e+00\n",
            "Epoch 46/100\n",
            "426/426 [==============================] - 0s 44us/step - loss: 159.2071 - mae: 10.1977 - accuracy: 0.0000e+00\n",
            "Epoch 47/100\n",
            "426/426 [==============================] - 0s 41us/step - loss: 159.1451 - mae: 10.2017 - accuracy: 0.0000e+00\n",
            "Epoch 48/100\n",
            "426/426 [==============================] - 0s 43us/step - loss: 159.0182 - mae: 10.2017 - accuracy: 0.0000e+00\n",
            "Epoch 49/100\n",
            "426/426 [==============================] - 0s 41us/step - loss: 159.1204 - mae: 10.1994 - accuracy: 0.0000e+00\n",
            "Epoch 50/100\n",
            "426/426 [==============================] - 0s 47us/step - loss: 159.0396 - mae: 10.2100 - accuracy: 0.0000e+00\n",
            "Epoch 51/100\n",
            "426/426 [==============================] - 0s 44us/step - loss: 158.9192 - mae: 10.2117 - accuracy: 0.0000e+00\n",
            "Epoch 52/100\n",
            "426/426 [==============================] - 0s 43us/step - loss: 158.8103 - mae: 10.2038 - accuracy: 0.0000e+00\n",
            "Epoch 53/100\n",
            "426/426 [==============================] - 0s 44us/step - loss: 158.7200 - mae: 10.1971 - accuracy: 0.0000e+00\n",
            "Epoch 54/100\n",
            "426/426 [==============================] - 0s 39us/step - loss: 158.5672 - mae: 10.1932 - accuracy: 0.0000e+00\n",
            "Epoch 55/100\n",
            "426/426 [==============================] - 0s 48us/step - loss: 158.5552 - mae: 10.1964 - accuracy: 0.0000e+00\n",
            "Epoch 56/100\n",
            "426/426 [==============================] - 0s 44us/step - loss: 158.4405 - mae: 10.1934 - accuracy: 0.0000e+00\n",
            "Epoch 57/100\n",
            "426/426 [==============================] - 0s 40us/step - loss: 158.4705 - mae: 10.1969 - accuracy: 0.0000e+00\n",
            "Epoch 58/100\n",
            "426/426 [==============================] - 0s 43us/step - loss: 158.3514 - mae: 10.1833 - accuracy: 0.0000e+00\n",
            "Epoch 59/100\n",
            "426/426 [==============================] - 0s 42us/step - loss: 158.1898 - mae: 10.1661 - accuracy: 0.0000e+00\n",
            "Epoch 60/100\n",
            "426/426 [==============================] - 0s 39us/step - loss: 158.0904 - mae: 10.1687 - accuracy: 0.0000e+00\n",
            "Epoch 61/100\n",
            "426/426 [==============================] - 0s 54us/step - loss: 158.1415 - mae: 10.1784 - accuracy: 0.0000e+00\n",
            "Epoch 62/100\n",
            "426/426 [==============================] - 0s 48us/step - loss: 157.9850 - mae: 10.1750 - accuracy: 0.0000e+00\n",
            "Epoch 63/100\n",
            "426/426 [==============================] - 0s 42us/step - loss: 157.8969 - mae: 10.1548 - accuracy: 0.0000e+00\n",
            "Epoch 64/100\n",
            "426/426 [==============================] - 0s 42us/step - loss: 157.7919 - mae: 10.1458 - accuracy: 0.0000e+00\n",
            "Epoch 65/100\n",
            "426/426 [==============================] - 0s 41us/step - loss: 157.7158 - mae: 10.1504 - accuracy: 0.0000e+00\n",
            "Epoch 66/100\n",
            "426/426 [==============================] - 0s 43us/step - loss: 157.6683 - mae: 10.1518 - accuracy: 0.0000e+00\n",
            "Epoch 67/100\n",
            "426/426 [==============================] - 0s 48us/step - loss: 157.6449 - mae: 10.1540 - accuracy: 0.0000e+00\n",
            "Epoch 68/100\n",
            "426/426 [==============================] - 0s 45us/step - loss: 157.5065 - mae: 10.1398 - accuracy: 0.0000e+00\n",
            "Epoch 69/100\n",
            "426/426 [==============================] - 0s 43us/step - loss: 157.5464 - mae: 10.1239 - accuracy: 0.0000e+00\n",
            "Epoch 70/100\n",
            "426/426 [==============================] - 0s 42us/step - loss: 157.4935 - mae: 10.1278 - accuracy: 0.0000e+00\n",
            "Epoch 71/100\n",
            "426/426 [==============================] - 0s 45us/step - loss: 157.2455 - mae: 10.1193 - accuracy: 0.0000e+00\n",
            "Epoch 72/100\n",
            "426/426 [==============================] - 0s 43us/step - loss: 157.1872 - mae: 10.1098 - accuracy: 0.0000e+00\n",
            "Epoch 73/100\n",
            "426/426 [==============================] - 0s 46us/step - loss: 157.1329 - mae: 10.1060 - accuracy: 0.0000e+00\n",
            "Epoch 74/100\n",
            "426/426 [==============================] - 0s 42us/step - loss: 157.3036 - mae: 10.1322 - accuracy: 0.0000e+00\n",
            "Epoch 75/100\n",
            "426/426 [==============================] - 0s 41us/step - loss: 156.9449 - mae: 10.1236 - accuracy: 0.0000e+00\n",
            "Epoch 76/100\n",
            "426/426 [==============================] - 0s 41us/step - loss: 156.9032 - mae: 10.1081 - accuracy: 0.0000e+00\n",
            "Epoch 77/100\n",
            "426/426 [==============================] - 0s 41us/step - loss: 156.6909 - mae: 10.1091 - accuracy: 0.0000e+00\n",
            "Epoch 78/100\n",
            "426/426 [==============================] - 0s 44us/step - loss: 156.7392 - mae: 10.1113 - accuracy: 0.0000e+00\n",
            "Epoch 79/100\n",
            "426/426 [==============================] - 0s 58us/step - loss: 156.6033 - mae: 10.1048 - accuracy: 0.0000e+00\n",
            "Epoch 80/100\n",
            "426/426 [==============================] - 0s 41us/step - loss: 156.5173 - mae: 10.0948 - accuracy: 0.0000e+00\n",
            "Epoch 81/100\n",
            "426/426 [==============================] - 0s 41us/step - loss: 156.5474 - mae: 10.0823 - accuracy: 0.0000e+00\n",
            "Epoch 82/100\n",
            "426/426 [==============================] - 0s 40us/step - loss: 156.3228 - mae: 10.0832 - accuracy: 0.0000e+00\n",
            "Epoch 83/100\n",
            "426/426 [==============================] - 0s 44us/step - loss: 156.2555 - mae: 10.0929 - accuracy: 0.0000e+00\n",
            "Epoch 84/100\n",
            "426/426 [==============================] - 0s 46us/step - loss: 156.2600 - mae: 10.0925 - accuracy: 0.0000e+00\n",
            "Epoch 85/100\n",
            "426/426 [==============================] - 0s 41us/step - loss: 156.2142 - mae: 10.1003 - accuracy: 0.0000e+00\n",
            "Epoch 86/100\n",
            "426/426 [==============================] - 0s 41us/step - loss: 156.3030 - mae: 10.0874 - accuracy: 0.0000e+00\n",
            "Epoch 87/100\n",
            "426/426 [==============================] - 0s 42us/step - loss: 155.9901 - mae: 10.0740 - accuracy: 0.0000e+00\n",
            "Epoch 88/100\n",
            "426/426 [==============================] - 0s 43us/step - loss: 155.9317 - mae: 10.0859 - accuracy: 0.0000e+00\n",
            "Epoch 89/100\n",
            "426/426 [==============================] - 0s 41us/step - loss: 155.7541 - mae: 10.0812 - accuracy: 0.0000e+00\n",
            "Epoch 90/100\n",
            "426/426 [==============================] - 0s 44us/step - loss: 155.7271 - mae: 10.0740 - accuracy: 0.0000e+00\n",
            "Epoch 91/100\n",
            "426/426 [==============================] - 0s 44us/step - loss: 155.7799 - mae: 10.0650 - accuracy: 0.0000e+00\n",
            "Epoch 92/100\n",
            "426/426 [==============================] - 0s 44us/step - loss: 155.5196 - mae: 10.0619 - accuracy: 0.0000e+00\n",
            "Epoch 93/100\n",
            "426/426 [==============================] - 0s 41us/step - loss: 156.0634 - mae: 10.0647 - accuracy: 0.0000e+00\n",
            "Epoch 94/100\n",
            "426/426 [==============================] - 0s 44us/step - loss: 155.6390 - mae: 10.0662 - accuracy: 0.0000e+00\n",
            "Epoch 95/100\n",
            "426/426 [==============================] - 0s 45us/step - loss: 155.3260 - mae: 10.0656 - accuracy: 0.0000e+00\n",
            "Epoch 96/100\n",
            "426/426 [==============================] - 0s 56us/step - loss: 155.2794 - mae: 10.0548 - accuracy: 0.0000e+00\n",
            "Epoch 97/100\n",
            "426/426 [==============================] - 0s 39us/step - loss: 155.2121 - mae: 10.0668 - accuracy: 0.0000e+00\n",
            "Epoch 98/100\n",
            "426/426 [==============================] - 0s 41us/step - loss: 155.1460 - mae: 10.0579 - accuracy: 0.0000e+00\n",
            "Epoch 99/100\n",
            "426/426 [==============================] - 0s 44us/step - loss: 154.9405 - mae: 10.0446 - accuracy: 0.0000e+00\n",
            "Epoch 100/100\n",
            "426/426 [==============================] - 0s 43us/step - loss: 155.0153 - mae: 10.0303 - accuracy: 0.0000e+00\n"
          ],
          "name": "stdout"
        }
      ]
    },
    {
      "cell_type": "code",
      "metadata": {
        "id": "za7NG1tEjnrH",
        "colab_type": "code",
        "colab": {
          "base_uri": "https://localhost:8080/",
          "height": 34
        },
        "outputId": "c7ad4afd-4bb6-4efa-e270-62df532ad613"
      },
      "source": [
        "regressor.model"
      ],
      "execution_count": 124,
      "outputs": [
        {
          "output_type": "execute_result",
          "data": {
            "text/plain": [
              "<keras.engine.sequential.Sequential at 0x7fc1f8c29f60>"
            ]
          },
          "metadata": {
            "tags": []
          },
          "execution_count": 124
        }
      ]
    },
    {
      "cell_type": "code",
      "metadata": {
        "id": "UFOaIl19jnrJ",
        "colab_type": "code",
        "colab": {}
      },
      "source": [
        "market5[\"gd_pred\"]= regressor.predict(x_train)"
      ],
      "execution_count": 0,
      "outputs": []
    },
    {
      "cell_type": "code",
      "metadata": {
        "id": "MW7dRiszjnrL",
        "colab_type": "code",
        "colab": {
          "base_uri": "https://localhost:8080/",
          "height": 34
        },
        "outputId": "806524bd-4789-4cd9-f2dd-063ee975742c"
      },
      "source": [
        "mean_squared_error(market5[[\"Item_Outlet_Sales\"]],market5[[\"gd_pred\"]])"
      ],
      "execution_count": 126,
      "outputs": [
        {
          "output_type": "execute_result",
          "data": {
            "text/plain": [
              "154.85308763103055"
            ]
          },
          "metadata": {
            "tags": []
          },
          "execution_count": 126
        }
      ]
    },
    {
      "cell_type": "code",
      "metadata": {
        "id": "qU--B_30jnrN",
        "colab_type": "code",
        "colab": {
          "base_uri": "https://localhost:8080/",
          "height": 34
        },
        "outputId": "1756914a-9e0d-4c40-e8e1-e3d81eea809e"
      },
      "source": [
        "print(\"train_RMSE\",np.sqrt(mean_squared_error(market5[[\"Item_Outlet_Sales\"]],market5[[\"gd_pred\"]])))"
      ],
      "execution_count": 127,
      "outputs": [
        {
          "output_type": "stream",
          "text": [
            "train_RMSE 12.443998056534344\n"
          ],
          "name": "stdout"
        }
      ]
    },
    {
      "cell_type": "code",
      "metadata": {
        "id": "1X2xkAFhjnrP",
        "colab_type": "code",
        "colab": {}
      },
      "source": [
        ""
      ],
      "execution_count": 0,
      "outputs": []
    }
  ]
}